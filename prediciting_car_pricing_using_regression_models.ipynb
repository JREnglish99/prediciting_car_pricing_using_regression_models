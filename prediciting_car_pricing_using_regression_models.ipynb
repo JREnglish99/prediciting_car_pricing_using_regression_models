{
  "nbformat": 4,
  "nbformat_minor": 0,
  "metadata": {
    "colab": {
      "name": "Supervised_learning_capstone_car_sales_prediction.ipynb",
      "provenance": [],
      "collapsed_sections": []
    },
    "kernelspec": {
      "name": "python3",
      "display_name": "Python 3"
    },
    "language_info": {
      "name": "python"
    }
  },
  "cells": [
    {
      "cell_type": "markdown",
      "metadata": {
        "id": "VqRq22ZYgSsz"
      },
      "source": [
        "##Introduction\n",
        "I found an interesting dataset on Kaggle titled \"Car Sales Advertisements\" which contains data for more than 9.5K cars sold in Ukraine. My goal is to fit a regression model that can accurately predict the the sale price of a vehicle, given the observations in this dataset. \n",
        "\n",
        "##Content\n",
        "Dataset contains 9576 rows and 10 variables with essential meanings:\n",
        "\n",
        "*   **car:** manufacturer brand\n",
        "*   **price:** seller’s price in advertisement (in USD)\n",
        "*   **body:** car body type\n",
        "*   **mileage:** as mentioned in advertisement (‘000 Km)\n",
        "*   **engV:** rounded engine volume (‘000 cubic cm)\n",
        "*   **engType:** type of fuel (“Other” in this case should be treated as NA)\n",
        "*   **registration:** whether car registered in Ukraine or not\n",
        "*   **year:** year of production\n",
        "*   **model:** specific model name\n",
        "*   **drive:** drive type\n",
        "\n",
        "A full overview of the data can be found here: https://www.kaggle.com/antfarol/car-sale-advertisements"
      ]
    },
    {
      "cell_type": "markdown",
      "metadata": {
        "id": "G_whiDlThyZ4"
      },
      "source": [
        "##Method\n",
        "I will setup, explore and prepare the data. Then I will move on to feature engineering/selection. Next, I will test and tune several models. Finally, I will use model comparasion techniques to choose the best model for this data."
      ]
    },
    {
      "cell_type": "code",
      "metadata": {
        "id": "iNpTqdUTffHQ"
      },
      "source": [
        "#Setting up the environment\n",
        "import numpy as np\n",
        "import pandas as pd\n",
        "from sklearn import linear_model\n",
        "import matplotlib.pyplot as plt\n",
        "import warnings\n",
        "warnings.filterwarnings('ignore')\n",
        "\n",
        "#setting up df\n",
        "cars_df = pd.read_csv('https://raw.githubusercontent.com/JREnglish99/thinkful-data-science/main/challanges/data/car_ad.csv', encoding='latin-1')"
      ],
      "execution_count": null,
      "outputs": []
    },
    {
      "cell_type": "code",
      "metadata": {
        "colab": {
          "base_uri": "https://localhost:8080/"
        },
        "id": "X4eLvOWlfqzw",
        "outputId": "b9552eb4-9bb2-48d9-a7d3-4a1c373ce4f2"
      },
      "source": [
        "#exploring the data\n",
        "cars_df.info()"
      ],
      "execution_count": null,
      "outputs": [
        {
          "output_type": "stream",
          "name": "stdout",
          "text": [
            "<class 'pandas.core.frame.DataFrame'>\n",
            "RangeIndex: 9576 entries, 0 to 9575\n",
            "Data columns (total 10 columns):\n",
            " #   Column        Non-Null Count  Dtype  \n",
            "---  ------        --------------  -----  \n",
            " 0   car           9576 non-null   object \n",
            " 1   price         9576 non-null   float64\n",
            " 2   body          9576 non-null   object \n",
            " 3   mileage       9576 non-null   int64  \n",
            " 4   engV          9142 non-null   float64\n",
            " 5   engType       9576 non-null   object \n",
            " 6   registration  9576 non-null   object \n",
            " 7   year          9576 non-null   int64  \n",
            " 8   model         9576 non-null   object \n",
            " 9   drive         9065 non-null   object \n",
            "dtypes: float64(2), int64(2), object(6)\n",
            "memory usage: 748.2+ KB\n"
          ]
        }
      ]
    },
    {
      "cell_type": "code",
      "metadata": {
        "colab": {
          "base_uri": "https://localhost:8080/",
          "height": 514
        },
        "id": "eNYeUo1WgJ0N",
        "outputId": "bffe50b9-0364-4736-f372-d371607612a8"
      },
      "source": [
        "cars_df.head(15)"
      ],
      "execution_count": null,
      "outputs": [
        {
          "output_type": "execute_result",
          "data": {
            "text/html": [
              "<div>\n",
              "<style scoped>\n",
              "    .dataframe tbody tr th:only-of-type {\n",
              "        vertical-align: middle;\n",
              "    }\n",
              "\n",
              "    .dataframe tbody tr th {\n",
              "        vertical-align: top;\n",
              "    }\n",
              "\n",
              "    .dataframe thead th {\n",
              "        text-align: right;\n",
              "    }\n",
              "</style>\n",
              "<table border=\"1\" class=\"dataframe\">\n",
              "  <thead>\n",
              "    <tr style=\"text-align: right;\">\n",
              "      <th></th>\n",
              "      <th>car</th>\n",
              "      <th>price</th>\n",
              "      <th>body</th>\n",
              "      <th>mileage</th>\n",
              "      <th>engV</th>\n",
              "      <th>engType</th>\n",
              "      <th>registration</th>\n",
              "      <th>year</th>\n",
              "      <th>model</th>\n",
              "      <th>drive</th>\n",
              "    </tr>\n",
              "  </thead>\n",
              "  <tbody>\n",
              "    <tr>\n",
              "      <th>0</th>\n",
              "      <td>Ford</td>\n",
              "      <td>15500.000</td>\n",
              "      <td>crossover</td>\n",
              "      <td>68</td>\n",
              "      <td>2.5</td>\n",
              "      <td>Gas</td>\n",
              "      <td>yes</td>\n",
              "      <td>2010</td>\n",
              "      <td>Kuga</td>\n",
              "      <td>full</td>\n",
              "    </tr>\n",
              "    <tr>\n",
              "      <th>1</th>\n",
              "      <td>Mercedes-Benz</td>\n",
              "      <td>20500.000</td>\n",
              "      <td>sedan</td>\n",
              "      <td>173</td>\n",
              "      <td>1.8</td>\n",
              "      <td>Gas</td>\n",
              "      <td>yes</td>\n",
              "      <td>2011</td>\n",
              "      <td>E-Class</td>\n",
              "      <td>rear</td>\n",
              "    </tr>\n",
              "    <tr>\n",
              "      <th>2</th>\n",
              "      <td>Mercedes-Benz</td>\n",
              "      <td>35000.000</td>\n",
              "      <td>other</td>\n",
              "      <td>135</td>\n",
              "      <td>5.5</td>\n",
              "      <td>Petrol</td>\n",
              "      <td>yes</td>\n",
              "      <td>2008</td>\n",
              "      <td>CL 550</td>\n",
              "      <td>rear</td>\n",
              "    </tr>\n",
              "    <tr>\n",
              "      <th>3</th>\n",
              "      <td>Mercedes-Benz</td>\n",
              "      <td>17800.000</td>\n",
              "      <td>van</td>\n",
              "      <td>162</td>\n",
              "      <td>1.8</td>\n",
              "      <td>Diesel</td>\n",
              "      <td>yes</td>\n",
              "      <td>2012</td>\n",
              "      <td>B 180</td>\n",
              "      <td>front</td>\n",
              "    </tr>\n",
              "    <tr>\n",
              "      <th>4</th>\n",
              "      <td>Mercedes-Benz</td>\n",
              "      <td>33000.000</td>\n",
              "      <td>vagon</td>\n",
              "      <td>91</td>\n",
              "      <td>NaN</td>\n",
              "      <td>Other</td>\n",
              "      <td>yes</td>\n",
              "      <td>2013</td>\n",
              "      <td>E-Class</td>\n",
              "      <td>NaN</td>\n",
              "    </tr>\n",
              "    <tr>\n",
              "      <th>5</th>\n",
              "      <td>Nissan</td>\n",
              "      <td>16600.000</td>\n",
              "      <td>crossover</td>\n",
              "      <td>83</td>\n",
              "      <td>2.0</td>\n",
              "      <td>Petrol</td>\n",
              "      <td>yes</td>\n",
              "      <td>2013</td>\n",
              "      <td>X-Trail</td>\n",
              "      <td>full</td>\n",
              "    </tr>\n",
              "    <tr>\n",
              "      <th>6</th>\n",
              "      <td>Honda</td>\n",
              "      <td>6500.000</td>\n",
              "      <td>sedan</td>\n",
              "      <td>199</td>\n",
              "      <td>2.0</td>\n",
              "      <td>Petrol</td>\n",
              "      <td>yes</td>\n",
              "      <td>2003</td>\n",
              "      <td>Accord</td>\n",
              "      <td>front</td>\n",
              "    </tr>\n",
              "    <tr>\n",
              "      <th>7</th>\n",
              "      <td>Renault</td>\n",
              "      <td>10500.000</td>\n",
              "      <td>vagon</td>\n",
              "      <td>185</td>\n",
              "      <td>1.5</td>\n",
              "      <td>Diesel</td>\n",
              "      <td>yes</td>\n",
              "      <td>2011</td>\n",
              "      <td>Megane</td>\n",
              "      <td>front</td>\n",
              "    </tr>\n",
              "    <tr>\n",
              "      <th>8</th>\n",
              "      <td>Mercedes-Benz</td>\n",
              "      <td>21500.000</td>\n",
              "      <td>sedan</td>\n",
              "      <td>146</td>\n",
              "      <td>1.8</td>\n",
              "      <td>Gas</td>\n",
              "      <td>yes</td>\n",
              "      <td>2012</td>\n",
              "      <td>E-Class</td>\n",
              "      <td>rear</td>\n",
              "    </tr>\n",
              "    <tr>\n",
              "      <th>9</th>\n",
              "      <td>Mercedes-Benz</td>\n",
              "      <td>22700.000</td>\n",
              "      <td>sedan</td>\n",
              "      <td>125</td>\n",
              "      <td>2.2</td>\n",
              "      <td>Diesel</td>\n",
              "      <td>yes</td>\n",
              "      <td>2010</td>\n",
              "      <td>E-Class</td>\n",
              "      <td>rear</td>\n",
              "    </tr>\n",
              "    <tr>\n",
              "      <th>10</th>\n",
              "      <td>Nissan</td>\n",
              "      <td>20447.154</td>\n",
              "      <td>crossover</td>\n",
              "      <td>0</td>\n",
              "      <td>1.2</td>\n",
              "      <td>Petrol</td>\n",
              "      <td>yes</td>\n",
              "      <td>2016</td>\n",
              "      <td>Qashqai</td>\n",
              "      <td>front</td>\n",
              "    </tr>\n",
              "    <tr>\n",
              "      <th>11</th>\n",
              "      <td>Mercedes-Benz</td>\n",
              "      <td>20400.000</td>\n",
              "      <td>sedan</td>\n",
              "      <td>190</td>\n",
              "      <td>1.8</td>\n",
              "      <td>Gas</td>\n",
              "      <td>yes</td>\n",
              "      <td>2011</td>\n",
              "      <td>E-Class</td>\n",
              "      <td>rear</td>\n",
              "    </tr>\n",
              "    <tr>\n",
              "      <th>12</th>\n",
              "      <td>Mercedes-Benz</td>\n",
              "      <td>22500.000</td>\n",
              "      <td>sedan</td>\n",
              "      <td>164</td>\n",
              "      <td>1.8</td>\n",
              "      <td>Gas</td>\n",
              "      <td>yes</td>\n",
              "      <td>2012</td>\n",
              "      <td>E-Class</td>\n",
              "      <td>rear</td>\n",
              "    </tr>\n",
              "    <tr>\n",
              "      <th>13</th>\n",
              "      <td>BMW</td>\n",
              "      <td>4700.000</td>\n",
              "      <td>sedan</td>\n",
              "      <td>200</td>\n",
              "      <td>NaN</td>\n",
              "      <td>Petrol</td>\n",
              "      <td>yes</td>\n",
              "      <td>1996</td>\n",
              "      <td>316</td>\n",
              "      <td>rear</td>\n",
              "    </tr>\n",
              "    <tr>\n",
              "      <th>14</th>\n",
              "      <td>Mercedes-Benz</td>\n",
              "      <td>21500.000</td>\n",
              "      <td>sedan</td>\n",
              "      <td>159</td>\n",
              "      <td>1.8</td>\n",
              "      <td>Gas</td>\n",
              "      <td>yes</td>\n",
              "      <td>2012</td>\n",
              "      <td>E-Class</td>\n",
              "      <td>rear</td>\n",
              "    </tr>\n",
              "  </tbody>\n",
              "</table>\n",
              "</div>"
            ],
            "text/plain": [
              "              car      price       body  ...  year    model  drive\n",
              "0            Ford  15500.000  crossover  ...  2010     Kuga   full\n",
              "1   Mercedes-Benz  20500.000      sedan  ...  2011  E-Class   rear\n",
              "2   Mercedes-Benz  35000.000      other  ...  2008   CL 550   rear\n",
              "3   Mercedes-Benz  17800.000        van  ...  2012    B 180  front\n",
              "4   Mercedes-Benz  33000.000      vagon  ...  2013  E-Class    NaN\n",
              "5          Nissan  16600.000  crossover  ...  2013  X-Trail   full\n",
              "6           Honda   6500.000      sedan  ...  2003   Accord  front\n",
              "7         Renault  10500.000      vagon  ...  2011   Megane  front\n",
              "8   Mercedes-Benz  21500.000      sedan  ...  2012  E-Class   rear\n",
              "9   Mercedes-Benz  22700.000      sedan  ...  2010  E-Class   rear\n",
              "10         Nissan  20447.154  crossover  ...  2016  Qashqai  front\n",
              "11  Mercedes-Benz  20400.000      sedan  ...  2011  E-Class   rear\n",
              "12  Mercedes-Benz  22500.000      sedan  ...  2012  E-Class   rear\n",
              "13            BMW   4700.000      sedan  ...  1996      316   rear\n",
              "14  Mercedes-Benz  21500.000      sedan  ...  2012  E-Class   rear\n",
              "\n",
              "[15 rows x 10 columns]"
            ]
          },
          "metadata": {},
          "execution_count": 3
        }
      ]
    },
    {
      "cell_type": "code",
      "metadata": {
        "colab": {
          "base_uri": "https://localhost:8080/",
          "height": 419
        },
        "id": "dVy_V-9-j5VD",
        "outputId": "fc78cde4-f2d1-4ec8-fbaf-419d940060ed"
      },
      "source": [
        "#further investigating the null values for engV and drive columns \n",
        "\n",
        "cars_df[cars_df['engV'].isnull()]"
      ],
      "execution_count": null,
      "outputs": [
        {
          "output_type": "execute_result",
          "data": {
            "text/html": [
              "<div>\n",
              "<style scoped>\n",
              "    .dataframe tbody tr th:only-of-type {\n",
              "        vertical-align: middle;\n",
              "    }\n",
              "\n",
              "    .dataframe tbody tr th {\n",
              "        vertical-align: top;\n",
              "    }\n",
              "\n",
              "    .dataframe thead th {\n",
              "        text-align: right;\n",
              "    }\n",
              "</style>\n",
              "<table border=\"1\" class=\"dataframe\">\n",
              "  <thead>\n",
              "    <tr style=\"text-align: right;\">\n",
              "      <th></th>\n",
              "      <th>car</th>\n",
              "      <th>price</th>\n",
              "      <th>body</th>\n",
              "      <th>mileage</th>\n",
              "      <th>engV</th>\n",
              "      <th>engType</th>\n",
              "      <th>registration</th>\n",
              "      <th>year</th>\n",
              "      <th>model</th>\n",
              "      <th>drive</th>\n",
              "    </tr>\n",
              "  </thead>\n",
              "  <tbody>\n",
              "    <tr>\n",
              "      <th>4</th>\n",
              "      <td>Mercedes-Benz</td>\n",
              "      <td>33000.000</td>\n",
              "      <td>vagon</td>\n",
              "      <td>91</td>\n",
              "      <td>NaN</td>\n",
              "      <td>Other</td>\n",
              "      <td>yes</td>\n",
              "      <td>2013</td>\n",
              "      <td>E-Class</td>\n",
              "      <td>NaN</td>\n",
              "    </tr>\n",
              "    <tr>\n",
              "      <th>13</th>\n",
              "      <td>BMW</td>\n",
              "      <td>4700.000</td>\n",
              "      <td>sedan</td>\n",
              "      <td>200</td>\n",
              "      <td>NaN</td>\n",
              "      <td>Petrol</td>\n",
              "      <td>yes</td>\n",
              "      <td>1996</td>\n",
              "      <td>316</td>\n",
              "      <td>rear</td>\n",
              "    </tr>\n",
              "    <tr>\n",
              "      <th>30</th>\n",
              "      <td>Nissan</td>\n",
              "      <td>13980.000</td>\n",
              "      <td>hatch</td>\n",
              "      <td>31</td>\n",
              "      <td>NaN</td>\n",
              "      <td>Other</td>\n",
              "      <td>yes</td>\n",
              "      <td>2013</td>\n",
              "      <td>Leaf</td>\n",
              "      <td>front</td>\n",
              "    </tr>\n",
              "    <tr>\n",
              "      <th>31</th>\n",
              "      <td>Nissan</td>\n",
              "      <td>17300.000</td>\n",
              "      <td>hatch</td>\n",
              "      <td>24</td>\n",
              "      <td>NaN</td>\n",
              "      <td>Other</td>\n",
              "      <td>yes</td>\n",
              "      <td>2013</td>\n",
              "      <td>Leaf</td>\n",
              "      <td>front</td>\n",
              "    </tr>\n",
              "    <tr>\n",
              "      <th>37</th>\n",
              "      <td>Audi</td>\n",
              "      <td>2850.000</td>\n",
              "      <td>sedan</td>\n",
              "      <td>260</td>\n",
              "      <td>NaN</td>\n",
              "      <td>Other</td>\n",
              "      <td>no</td>\n",
              "      <td>1999</td>\n",
              "      <td>A6</td>\n",
              "      <td>NaN</td>\n",
              "    </tr>\n",
              "    <tr>\n",
              "      <th>...</th>\n",
              "      <td>...</td>\n",
              "      <td>...</td>\n",
              "      <td>...</td>\n",
              "      <td>...</td>\n",
              "      <td>...</td>\n",
              "      <td>...</td>\n",
              "      <td>...</td>\n",
              "      <td>...</td>\n",
              "      <td>...</td>\n",
              "      <td>...</td>\n",
              "    </tr>\n",
              "    <tr>\n",
              "      <th>9470</th>\n",
              "      <td>Chrysler</td>\n",
              "      <td>0.000</td>\n",
              "      <td>vagon</td>\n",
              "      <td>198</td>\n",
              "      <td>NaN</td>\n",
              "      <td>Petrol</td>\n",
              "      <td>yes</td>\n",
              "      <td>2001</td>\n",
              "      <td>PT Cruiser</td>\n",
              "      <td>front</td>\n",
              "    </tr>\n",
              "    <tr>\n",
              "      <th>9480</th>\n",
              "      <td>Renault</td>\n",
              "      <td>8100.000</td>\n",
              "      <td>van</td>\n",
              "      <td>135</td>\n",
              "      <td>NaN</td>\n",
              "      <td>Diesel</td>\n",
              "      <td>yes</td>\n",
              "      <td>2008</td>\n",
              "      <td>Kangoo ïàññ.</td>\n",
              "      <td>front</td>\n",
              "    </tr>\n",
              "    <tr>\n",
              "      <th>9515</th>\n",
              "      <td>Renault</td>\n",
              "      <td>5000.000</td>\n",
              "      <td>vagon</td>\n",
              "      <td>150</td>\n",
              "      <td>NaN</td>\n",
              "      <td>Other</td>\n",
              "      <td>yes</td>\n",
              "      <td>2006</td>\n",
              "      <td>Kangoo ïàññ.</td>\n",
              "      <td>front</td>\n",
              "    </tr>\n",
              "    <tr>\n",
              "      <th>9546</th>\n",
              "      <td>VAZ</td>\n",
              "      <td>907.725</td>\n",
              "      <td>sedan</td>\n",
              "      <td>1</td>\n",
              "      <td>NaN</td>\n",
              "      <td>Other</td>\n",
              "      <td>yes</td>\n",
              "      <td>1986</td>\n",
              "      <td>2106</td>\n",
              "      <td>rear</td>\n",
              "    </tr>\n",
              "    <tr>\n",
              "      <th>9566</th>\n",
              "      <td>UAZ</td>\n",
              "      <td>850.000</td>\n",
              "      <td>van</td>\n",
              "      <td>255</td>\n",
              "      <td>NaN</td>\n",
              "      <td>Other</td>\n",
              "      <td>yes</td>\n",
              "      <td>1981</td>\n",
              "      <td>3962</td>\n",
              "      <td>NaN</td>\n",
              "    </tr>\n",
              "  </tbody>\n",
              "</table>\n",
              "<p>434 rows × 10 columns</p>\n",
              "</div>"
            ],
            "text/plain": [
              "                car      price   body  ...  year         model  drive\n",
              "4     Mercedes-Benz  33000.000  vagon  ...  2013       E-Class    NaN\n",
              "13              BMW   4700.000  sedan  ...  1996           316   rear\n",
              "30           Nissan  13980.000  hatch  ...  2013          Leaf  front\n",
              "31           Nissan  17300.000  hatch  ...  2013          Leaf  front\n",
              "37             Audi   2850.000  sedan  ...  1999            A6    NaN\n",
              "...             ...        ...    ...  ...   ...           ...    ...\n",
              "9470       Chrysler      0.000  vagon  ...  2001    PT Cruiser  front\n",
              "9480        Renault   8100.000    van  ...  2008  Kangoo ïàññ.  front\n",
              "9515        Renault   5000.000  vagon  ...  2006  Kangoo ïàññ.  front\n",
              "9546            VAZ    907.725  sedan  ...  1986          2106   rear\n",
              "9566            UAZ    850.000    van  ...  1981          3962    NaN\n",
              "\n",
              "[434 rows x 10 columns]"
            ]
          },
          "metadata": {},
          "execution_count": 4
        }
      ]
    },
    {
      "cell_type": "code",
      "metadata": {
        "colab": {
          "base_uri": "https://localhost:8080/",
          "height": 419
        },
        "id": "v52TRbgmnoAx",
        "outputId": "399ae968-0785-4398-9d8d-b20df7e2d403"
      },
      "source": [
        "cars_df[cars_df['drive'].isnull()]"
      ],
      "execution_count": null,
      "outputs": [
        {
          "output_type": "execute_result",
          "data": {
            "text/html": [
              "<div>\n",
              "<style scoped>\n",
              "    .dataframe tbody tr th:only-of-type {\n",
              "        vertical-align: middle;\n",
              "    }\n",
              "\n",
              "    .dataframe tbody tr th {\n",
              "        vertical-align: top;\n",
              "    }\n",
              "\n",
              "    .dataframe thead th {\n",
              "        text-align: right;\n",
              "    }\n",
              "</style>\n",
              "<table border=\"1\" class=\"dataframe\">\n",
              "  <thead>\n",
              "    <tr style=\"text-align: right;\">\n",
              "      <th></th>\n",
              "      <th>car</th>\n",
              "      <th>price</th>\n",
              "      <th>body</th>\n",
              "      <th>mileage</th>\n",
              "      <th>engV</th>\n",
              "      <th>engType</th>\n",
              "      <th>registration</th>\n",
              "      <th>year</th>\n",
              "      <th>model</th>\n",
              "      <th>drive</th>\n",
              "    </tr>\n",
              "  </thead>\n",
              "  <tbody>\n",
              "    <tr>\n",
              "      <th>4</th>\n",
              "      <td>Mercedes-Benz</td>\n",
              "      <td>33000.0</td>\n",
              "      <td>vagon</td>\n",
              "      <td>91</td>\n",
              "      <td>NaN</td>\n",
              "      <td>Other</td>\n",
              "      <td>yes</td>\n",
              "      <td>2013</td>\n",
              "      <td>E-Class</td>\n",
              "      <td>NaN</td>\n",
              "    </tr>\n",
              "    <tr>\n",
              "      <th>37</th>\n",
              "      <td>Audi</td>\n",
              "      <td>2850.0</td>\n",
              "      <td>sedan</td>\n",
              "      <td>260</td>\n",
              "      <td>NaN</td>\n",
              "      <td>Other</td>\n",
              "      <td>no</td>\n",
              "      <td>1999</td>\n",
              "      <td>A6</td>\n",
              "      <td>NaN</td>\n",
              "    </tr>\n",
              "    <tr>\n",
              "      <th>44</th>\n",
              "      <td>BMW</td>\n",
              "      <td>39333.0</td>\n",
              "      <td>sedan</td>\n",
              "      <td>6</td>\n",
              "      <td>2.00</td>\n",
              "      <td>Petrol</td>\n",
              "      <td>yes</td>\n",
              "      <td>2016</td>\n",
              "      <td>520</td>\n",
              "      <td>NaN</td>\n",
              "    </tr>\n",
              "    <tr>\n",
              "      <th>52</th>\n",
              "      <td>Mercedes-Benz</td>\n",
              "      <td>31500.0</td>\n",
              "      <td>sedan</td>\n",
              "      <td>123</td>\n",
              "      <td>2.20</td>\n",
              "      <td>Diesel</td>\n",
              "      <td>yes</td>\n",
              "      <td>2011</td>\n",
              "      <td>E-Class</td>\n",
              "      <td>NaN</td>\n",
              "    </tr>\n",
              "    <tr>\n",
              "      <th>103</th>\n",
              "      <td>Volkswagen</td>\n",
              "      <td>10000.0</td>\n",
              "      <td>van</td>\n",
              "      <td>231</td>\n",
              "      <td>1.90</td>\n",
              "      <td>Diesel</td>\n",
              "      <td>yes</td>\n",
              "      <td>2005</td>\n",
              "      <td>T5 (Transporter) ïàññ.</td>\n",
              "      <td>NaN</td>\n",
              "    </tr>\n",
              "    <tr>\n",
              "      <th>...</th>\n",
              "      <td>...</td>\n",
              "      <td>...</td>\n",
              "      <td>...</td>\n",
              "      <td>...</td>\n",
              "      <td>...</td>\n",
              "      <td>...</td>\n",
              "      <td>...</td>\n",
              "      <td>...</td>\n",
              "      <td>...</td>\n",
              "      <td>...</td>\n",
              "    </tr>\n",
              "    <tr>\n",
              "      <th>9445</th>\n",
              "      <td>Nissan</td>\n",
              "      <td>5000.0</td>\n",
              "      <td>sedan</td>\n",
              "      <td>260</td>\n",
              "      <td>3.00</td>\n",
              "      <td>Gas</td>\n",
              "      <td>yes</td>\n",
              "      <td>2000</td>\n",
              "      <td>Maxima</td>\n",
              "      <td>NaN</td>\n",
              "    </tr>\n",
              "    <tr>\n",
              "      <th>9450</th>\n",
              "      <td>VAZ</td>\n",
              "      <td>750.0</td>\n",
              "      <td>sedan</td>\n",
              "      <td>123</td>\n",
              "      <td>1.20</td>\n",
              "      <td>Petrol</td>\n",
              "      <td>yes</td>\n",
              "      <td>1990</td>\n",
              "      <td>2105</td>\n",
              "      <td>NaN</td>\n",
              "    </tr>\n",
              "    <tr>\n",
              "      <th>9469</th>\n",
              "      <td>Renault</td>\n",
              "      <td>5650.0</td>\n",
              "      <td>hatch</td>\n",
              "      <td>175</td>\n",
              "      <td>99.99</td>\n",
              "      <td>Other</td>\n",
              "      <td>yes</td>\n",
              "      <td>2002</td>\n",
              "      <td>Laguna</td>\n",
              "      <td>NaN</td>\n",
              "    </tr>\n",
              "    <tr>\n",
              "      <th>9537</th>\n",
              "      <td>Volkswagen</td>\n",
              "      <td>11500.0</td>\n",
              "      <td>other</td>\n",
              "      <td>51</td>\n",
              "      <td>1.60</td>\n",
              "      <td>Petrol</td>\n",
              "      <td>yes</td>\n",
              "      <td>2013</td>\n",
              "      <td>Polo</td>\n",
              "      <td>NaN</td>\n",
              "    </tr>\n",
              "    <tr>\n",
              "      <th>9566</th>\n",
              "      <td>UAZ</td>\n",
              "      <td>850.0</td>\n",
              "      <td>van</td>\n",
              "      <td>255</td>\n",
              "      <td>NaN</td>\n",
              "      <td>Other</td>\n",
              "      <td>yes</td>\n",
              "      <td>1981</td>\n",
              "      <td>3962</td>\n",
              "      <td>NaN</td>\n",
              "    </tr>\n",
              "  </tbody>\n",
              "</table>\n",
              "<p>511 rows × 10 columns</p>\n",
              "</div>"
            ],
            "text/plain": [
              "                car    price   body  ...  year                   model drive\n",
              "4     Mercedes-Benz  33000.0  vagon  ...  2013                 E-Class   NaN\n",
              "37             Audi   2850.0  sedan  ...  1999                      A6   NaN\n",
              "44              BMW  39333.0  sedan  ...  2016                     520   NaN\n",
              "52    Mercedes-Benz  31500.0  sedan  ...  2011                 E-Class   NaN\n",
              "103      Volkswagen  10000.0    van  ...  2005  T5 (Transporter) ïàññ.   NaN\n",
              "...             ...      ...    ...  ...   ...                     ...   ...\n",
              "9445         Nissan   5000.0  sedan  ...  2000                  Maxima   NaN\n",
              "9450            VAZ    750.0  sedan  ...  1990                    2105   NaN\n",
              "9469        Renault   5650.0  hatch  ...  2002                  Laguna   NaN\n",
              "9537     Volkswagen  11500.0  other  ...  2013                    Polo   NaN\n",
              "9566            UAZ    850.0    van  ...  1981                    3962   NaN\n",
              "\n",
              "[511 rows x 10 columns]"
            ]
          },
          "metadata": {},
          "execution_count": 5
        }
      ]
    },
    {
      "cell_type": "code",
      "metadata": {
        "id": "QlE9I2ofoKsq"
      },
      "source": [
        "#dropping null values\n",
        "cars_df = cars_df.dropna()"
      ],
      "execution_count": null,
      "outputs": []
    },
    {
      "cell_type": "markdown",
      "metadata": {
        "id": "G_-65tSSXTfm"
      },
      "source": [
        "The data description mentions that engType contains values marked \"other\". I want to better understand how that value exisits within the data."
      ]
    },
    {
      "cell_type": "code",
      "metadata": {
        "colab": {
          "base_uri": "https://localhost:8080/",
          "height": 643
        },
        "id": "Y_kx-LN72sw2",
        "outputId": "d47aa5af-fcc2-4a27-eb78-ae456ce9c101"
      },
      "source": [
        "#checking out engType \n",
        "\n",
        "plt.figure(figsize=(15,10))\n",
        "plt.subplot(1,2,1)\n",
        "plt.bar(cars_df.groupby('engType')['price'].mean().index, cars_df.groupby('engType')['price'].mean())\n",
        "plt.title('Average Saleprice by engType')\n",
        "plt.ylabel('Average Sale Price')\n",
        "plt.xlabel('engType')\n",
        "plt.xticks(rotation='vertical')\n",
        "\n",
        "plt.subplot(1,2,2)\n",
        "plt.bar(cars_df.groupby('engType')['price'].count().index, cars_df.groupby('engType')['price'].count())\n",
        "plt.title('Count by engType')\n",
        "plt.ylabel('Count')\n",
        "plt.xlabel('engType')\n",
        "plt.xticks(rotation='vertical')\n",
        "plt.show()"
      ],
      "execution_count": null,
      "outputs": [
        {
          "output_type": "display_data",
          "data": {
            "image/png": "[encoded data removed]",
            "text/plain": [
              "<Figure size 1080x720 with 2 Axes>"
            ]
          },
          "metadata": {
            "needs_background": "light"
          }
        }
      ]
    },
    {
      "cell_type": "markdown",
      "metadata": {
        "id": "tiehkALAXod5"
      },
      "source": [
        "Compared to the other engTypes, the pricing seems avereage and there is not too many \"other\" values so it should be okay to drop."
      ]
    },
    {
      "cell_type": "code",
      "metadata": {
        "id": "xdoKPun53nWB"
      },
      "source": [
        "#This looks okay to drop rows where engine type is other\n",
        "cars_df = cars_df[cars_df.engType != 'Other']"
      ],
      "execution_count": null,
      "outputs": []
    },
    {
      "cell_type": "markdown",
      "metadata": {
        "id": "88bg2vdLX80I"
      },
      "source": [
        "Now I will look for other outliers in the numeric data."
      ]
    },
    {
      "cell_type": "code",
      "metadata": {
        "colab": {
          "base_uri": "https://localhost:8080/",
          "height": 729
        },
        "id": "n23dp2xyQ0OK",
        "outputId": "73f21d73-e082-4001-c012-1add79033030"
      },
      "source": [
        "#checking out outliers\n",
        "plt.figure(figsize=(15,10))\n",
        "\n",
        "index = 1\n",
        "\n",
        "for column in cars_df.select_dtypes(['int64', 'float64']).columns:\n",
        "  plt.subplot(2,2,index)\n",
        "  plt.boxplot(cars_df.select_dtypes(['int64', 'float64'])[column])\n",
        "  plt.title(\"Box plot of {} (whis=1.5)\" .format(column))\n",
        "  index = index + 1\n",
        "plt.tight_layout()\n",
        "plt.show()"
      ],
      "execution_count": null,
      "outputs": [
        {
          "output_type": "display_data",
          "data": {
            "image/png": "[encoded data removed]",
            "text/plain": [
              "<Figure size 1080x720 with 4 Axes>"
            ]
          },
          "metadata": {
            "needs_background": "light"
          }
        }
      ]
    },
    {
      "cell_type": "code",
      "metadata": {
        "colab": {
          "base_uri": "https://localhost:8080/",
          "height": 637
        },
        "id": "_eD-Z54tROOk",
        "outputId": "8228c0a1-f0ca-4a81-8cce-b8114ff9bd1b"
      },
      "source": [
        "#plotting average price by year and mileage\n",
        "plt.figure(figsize=(25,10))\n",
        "\n",
        "plt.subplot(1,2,1)\n",
        "plt.bar(cars_df.select_dtypes(['int64', 'float64']).groupby('year')['price'].mean().index, cars_df.select_dtypes(['int64', 'float64']).groupby('year')['price'].mean())\n",
        "plt.title('Average Saleprice by year')\n",
        "plt.ylabel('Average Sale Price')\n",
        "plt.xlabel('Year')\n",
        "plt.xticks(rotation='vertical')\n",
        "\n",
        "\n",
        "plt.subplot(1,2,2)\n",
        "plt.bar(cars_df.select_dtypes(['int64', 'float64']).groupby('mileage')['price'].mean().index, cars_df.select_dtypes(['int64', 'float64']).groupby('mileage')['price'].mean())\n",
        "plt.title('Average Saleprice by mileage')\n",
        "plt.ylabel('Average Sale Price')\n",
        "plt.xlabel('Milage')\n",
        "plt.xticks(rotation='vertical')\n",
        "\n",
        "\n",
        "plt.show()"
      ],
      "execution_count": null,
      "outputs": [
        {
          "output_type": "display_data",
          "data": {
            "image/png": "[encoded data removed]",
            "text/plain": [
              "<Figure size 1800x720 with 2 Axes>"
            ]
          },
          "metadata": {
            "needs_background": "light"
          }
        }
      ]
    },
    {
      "cell_type": "markdown",
      "metadata": {
        "id": "sd_Ro0eBYGxK"
      },
      "source": [
        "Some interesting outliers here. Looks like maybe some classic cars that are old but also relatively expensive. There are also some long haul vehicles that have tons of miles and high sales prices and\n",
        "some super expensive cars. For the purposes of this model I am going to drop those."
      ]
    },
    {
      "cell_type": "code",
      "metadata": {
        "id": "beXFkWZVSxOs"
      },
      "source": [
        "\n",
        "\n",
        "cars_df = cars_df[cars_df.year >= 1985]\n",
        "cars_df = cars_df[cars_df.mileage <= 300]\n",
        "cars_df = cars_df[cars_df.mileage <= 200000]\n"
      ],
      "execution_count": null,
      "outputs": []
    },
    {
      "cell_type": "markdown",
      "metadata": {
        "id": "8cIMkfutYZL7"
      },
      "source": [
        "Let's look at the price variable - this is the target."
      ]
    },
    {
      "cell_type": "code",
      "metadata": {
        "colab": {
          "base_uri": "https://localhost:8080/",
          "height": 350
        },
        "id": "guTBDhaI4qBI",
        "outputId": "6aa76fc0-fa99-4a46-9e3d-71b9e3ab1355"
      },
      "source": [
        "#exploring the target\n",
        "plt.hist(cars_df['price'])"
      ],
      "execution_count": null,
      "outputs": [
        {
          "output_type": "execute_result",
          "data": {
            "text/plain": [
              "(array([7.601e+03, 2.780e+02, 6.600e+01, 2.200e+01, 7.000e+00, 4.000e+00,\n",
              "        0.000e+00, 0.000e+00, 1.000e+00, 3.000e+00]),\n",
              " array([     0.,  54780., 109560., 164340., 219120., 273900., 328680.,\n",
              "        383460., 438240., 493020., 547800.]),\n",
              " <a list of 10 Patch objects>)"
            ]
          },
          "metadata": {},
          "execution_count": 12
        },
        {
          "output_type": "display_data",
          "data": {
            "image/png": "[encoded data removed]",
            "text/plain": [
              "<Figure size 432x288 with 1 Axes>"
            ]
          },
          "metadata": {
            "needs_background": "light"
          }
        }
      ]
    },
    {
      "cell_type": "markdown",
      "metadata": {
        "id": "tAwp9zX_YfS3"
      },
      "source": [
        "The target is very positive skewed - creating a log version of the price to make the distribution more normal. For interperetation, tne results will need to be exponentiated."
      ]
    },
    {
      "cell_type": "code",
      "metadata": {
        "id": "Wfy4Qh3p421A"
      },
      "source": [
        "\n",
        "cars_df['log_price'] = np.log(cars_df['price'])"
      ],
      "execution_count": null,
      "outputs": []
    },
    {
      "cell_type": "code",
      "metadata": {
        "id": "3hMpuhuG5t2_"
      },
      "source": [
        "#dropping the log targets that resolve to infinity\n",
        "cars_df = cars_df.replace([np.inf, -np.inf], np.nan).dropna(subset = ['log_price'], axis = 0)"
      ],
      "execution_count": null,
      "outputs": []
    },
    {
      "cell_type": "code",
      "metadata": {
        "colab": {
          "base_uri": "https://localhost:8080/",
          "height": 367
        },
        "id": "Qj6Of8545vlm",
        "outputId": "d12d1832-85b0-49ec-c319-47863b62f6b1"
      },
      "source": [
        "#target histogram below looks more normal \n",
        "plt.hist(cars_df['log_price'])"
      ],
      "execution_count": null,
      "outputs": [
        {
          "output_type": "execute_result",
          "data": {
            "text/plain": [
              "(array([  19.,  162.,  668., 1504., 2836., 1588.,  654.,  258.,   55.,\n",
              "           8.]),\n",
              " array([ 5.91485344,  6.64473465,  7.37461586,  8.10449707,  8.83437828,\n",
              "         9.56425949, 10.2941407 , 11.02402191, 11.75390312, 12.48378433,\n",
              "        13.21366554]),\n",
              " <a list of 10 Patch objects>)"
            ]
          },
          "metadata": {},
          "execution_count": 15
        },
        {
          "output_type": "display_data",
          "data": {
            "image/png": "[encoded data removed]",
            "text/plain": [
              "<Figure size 432x288 with 1 Axes>"
            ]
          },
          "metadata": {
            "needs_background": "light"
          }
        }
      ]
    },
    {
      "cell_type": "markdown",
      "metadata": {
        "id": "qYhN1OOxb_gu"
      },
      "source": [
        "Now, I will create a correlation matrix for the numeric values to visualize any correlations between the variables and the log transformed target."
      ]
    },
    {
      "cell_type": "code",
      "metadata": {
        "id": "TzyFi-N87ly1",
        "colab": {
          "base_uri": "https://localhost:8080/",
          "height": 867
        },
        "outputId": "80296fd6-593f-484e-941a-ceebd0f2f42e"
      },
      "source": [
        "#checking out the correlation o matrix of the continous variables - year and mileage are the most correlated to the log target\n",
        "cars_corr = cars_df.corr()\n",
        "\n",
        "import seaborn as sns\n",
        "\n",
        "plt.figure(figsize=(15,15))\n",
        "sns.heatmap(cars_corr, square=True, annot=True, linewidths=.5)\n",
        "plt.title(\"correlation matrix\")"
      ],
      "execution_count": null,
      "outputs": [
        {
          "output_type": "execute_result",
          "data": {
            "text/plain": [
              "Text(0.5, 1.0, 'correlation matrix')"
            ]
          },
          "metadata": {},
          "execution_count": 16
        },
        {
          "output_type": "display_data",
          "data": {
            "image/png": "[encoded data removed]",
            "text/plain": [
              "<Figure size 1080x1080 with 2 Axes>"
            ]
          },
          "metadata": {
            "needs_background": "light"
          }
        }
      ]
    },
    {
      "cell_type": "markdown",
      "metadata": {
        "id": "TksLAezFcLp5"
      },
      "source": [
        "Year and milage are correlated with the target - they will likely be strong features."
      ]
    },
    {
      "cell_type": "code",
      "metadata": {
        "id": "LJv2KNgX18bJ"
      },
      "source": [
        "\n",
        "\n",
        "#exploring the object data types \n",
        "obj = cars_df.select_dtypes(['object'])"
      ],
      "execution_count": null,
      "outputs": []
    },
    {
      "cell_type": "markdown",
      "metadata": {
        "id": "Z5fXNvyzcU6k"
      },
      "source": [
        "Let's check out the catagorical variables."
      ]
    },
    {
      "cell_type": "code",
      "metadata": {
        "colab": {
          "base_uri": "https://localhost:8080/"
        },
        "id": "oD48dwx03Ub0",
        "outputId": "db0c1722-fd33-4c11-9e22-07623cd0bba7"
      },
      "source": [
        "#getting counts of the unique objects\n",
        "for objects in obj:\n",
        "  print('The number of unique catories in {} is: {}' .format(objects, obj[objects].nunique()))"
      ],
      "execution_count": null,
      "outputs": [
        {
          "output_type": "stream",
          "name": "stdout",
          "text": [
            "The number of unique catories in car is: 82\n",
            "The number of unique catories in body is: 6\n",
            "The number of unique catories in engType is: 3\n",
            "The number of unique catories in registration is: 2\n",
            "The number of unique catories in model is: 795\n",
            "The number of unique catories in drive is: 3\n"
          ]
        }
      ]
    },
    {
      "cell_type": "markdown",
      "metadata": {
        "id": "SvjwfVLpcd3G"
      },
      "source": [
        "There are a lot of different car models - I will attempt to recatagorize these.\n",
        "\n",
        "Before I recatagorize the models, checking out the target more - this might help me recatagorize the care models "
      ]
    },
    {
      "cell_type": "code",
      "metadata": {
        "id": "2cOTBDYb4Vtn",
        "colab": {
          "base_uri": "https://localhost:8080/"
        },
        "outputId": "0c591645-bace-4470-de2f-2d57131d061a"
      },
      "source": [
        "\n",
        "cars = cars_df['price']\n",
        "cars = pd.DataFrame(cars)\n",
        "print('The top third of cars cost between {} and {}' .format(np.percentile(cars, 66, axis=0),np.percentile(cars, 100, axis=0 )))\n",
        "print('The middle third of cars cost between {} and {}' .format(np.percentile(cars, 33, axis=0),np.percentile(cars, 66, axis=0 )))\n",
        "print('The lowest third of cars cost between {} and {}' .format(np.percentile(cars, 0, axis=0),np.percentile(cars, 33, axis=0 )))"
      ],
      "execution_count": null,
      "outputs": [
        {
          "output_type": "stream",
          "name": "stdout",
          "text": [
            "The top third of cars cost between [13900.] and [547800.]\n",
            "The middle third of cars cost between [7200.] and [13900.]\n",
            "The lowest third of cars cost between [370.5] and [7200.]\n"
          ]
        }
      ]
    },
    {
      "cell_type": "markdown",
      "metadata": {
        "id": "fMJnt45Eck3M"
      },
      "source": [
        "Investigating a specific brand to see how the model pricing is different by model"
      ]
    },
    {
      "cell_type": "code",
      "metadata": {
        "id": "m8XeidJC-E1u"
      },
      "source": [
        "\n",
        "ford = cars_df[cars_df['car'] == 'Ford']"
      ],
      "execution_count": null,
      "outputs": []
    },
    {
      "cell_type": "code",
      "metadata": {
        "colab": {
          "base_uri": "https://localhost:8080/",
          "height": 204
        },
        "id": "mHHlfvmV-njK",
        "outputId": "6ee54e13-02aa-43c8-e3c6-e4a01adb662f"
      },
      "source": [
        "ford.head(5)"
      ],
      "execution_count": null,
      "outputs": [
        {
          "output_type": "execute_result",
          "data": {
            "text/html": [
              "<div>\n",
              "<style scoped>\n",
              "    .dataframe tbody tr th:only-of-type {\n",
              "        vertical-align: middle;\n",
              "    }\n",
              "\n",
              "    .dataframe tbody tr th {\n",
              "        vertical-align: top;\n",
              "    }\n",
              "\n",
              "    .dataframe thead th {\n",
              "        text-align: right;\n",
              "    }\n",
              "</style>\n",
              "<table border=\"1\" class=\"dataframe\">\n",
              "  <thead>\n",
              "    <tr style=\"text-align: right;\">\n",
              "      <th></th>\n",
              "      <th>car</th>\n",
              "      <th>price</th>\n",
              "      <th>body</th>\n",
              "      <th>mileage</th>\n",
              "      <th>engV</th>\n",
              "      <th>engType</th>\n",
              "      <th>registration</th>\n",
              "      <th>year</th>\n",
              "      <th>model</th>\n",
              "      <th>drive</th>\n",
              "      <th>log_price</th>\n",
              "    </tr>\n",
              "  </thead>\n",
              "  <tbody>\n",
              "    <tr>\n",
              "      <th>0</th>\n",
              "      <td>Ford</td>\n",
              "      <td>15500.0</td>\n",
              "      <td>crossover</td>\n",
              "      <td>68</td>\n",
              "      <td>2.5</td>\n",
              "      <td>Gas</td>\n",
              "      <td>yes</td>\n",
              "      <td>2010</td>\n",
              "      <td>Kuga</td>\n",
              "      <td>full</td>\n",
              "      <td>9.648595</td>\n",
              "    </tr>\n",
              "    <tr>\n",
              "      <th>198</th>\n",
              "      <td>Ford</td>\n",
              "      <td>15500.0</td>\n",
              "      <td>crossover</td>\n",
              "      <td>68</td>\n",
              "      <td>2.5</td>\n",
              "      <td>Gas</td>\n",
              "      <td>yes</td>\n",
              "      <td>2010</td>\n",
              "      <td>Kuga</td>\n",
              "      <td>full</td>\n",
              "      <td>9.648595</td>\n",
              "    </tr>\n",
              "    <tr>\n",
              "      <th>210</th>\n",
              "      <td>Ford</td>\n",
              "      <td>15500.0</td>\n",
              "      <td>crossover</td>\n",
              "      <td>68</td>\n",
              "      <td>2.5</td>\n",
              "      <td>Diesel</td>\n",
              "      <td>yes</td>\n",
              "      <td>2010</td>\n",
              "      <td>Kuga</td>\n",
              "      <td>front</td>\n",
              "      <td>9.648595</td>\n",
              "    </tr>\n",
              "    <tr>\n",
              "      <th>280</th>\n",
              "      <td>Ford</td>\n",
              "      <td>12500.0</td>\n",
              "      <td>sedan</td>\n",
              "      <td>63</td>\n",
              "      <td>1.6</td>\n",
              "      <td>Petrol</td>\n",
              "      <td>yes</td>\n",
              "      <td>2013</td>\n",
              "      <td>Focus</td>\n",
              "      <td>front</td>\n",
              "      <td>9.433484</td>\n",
              "    </tr>\n",
              "    <tr>\n",
              "      <th>313</th>\n",
              "      <td>Ford</td>\n",
              "      <td>12099.0</td>\n",
              "      <td>sedan</td>\n",
              "      <td>109</td>\n",
              "      <td>1.6</td>\n",
              "      <td>Gas</td>\n",
              "      <td>yes</td>\n",
              "      <td>2011</td>\n",
              "      <td>Focus</td>\n",
              "      <td>front</td>\n",
              "      <td>9.400878</td>\n",
              "    </tr>\n",
              "  </tbody>\n",
              "</table>\n",
              "</div>"
            ],
            "text/plain": [
              "      car    price       body  mileage  ...  year  model  drive  log_price\n",
              "0    Ford  15500.0  crossover       68  ...  2010   Kuga   full   9.648595\n",
              "198  Ford  15500.0  crossover       68  ...  2010   Kuga   full   9.648595\n",
              "210  Ford  15500.0  crossover       68  ...  2010   Kuga  front   9.648595\n",
              "280  Ford  12500.0      sedan       63  ...  2013  Focus  front   9.433484\n",
              "313  Ford  12099.0      sedan      109  ...  2011  Focus  front   9.400878\n",
              "\n",
              "[5 rows x 11 columns]"
            ]
          },
          "metadata": {},
          "execution_count": 21
        }
      ]
    },
    {
      "cell_type": "code",
      "metadata": {
        "id": "p4ieRKsUOzoG"
      },
      "source": [
        "#Checking out unique care brands\n",
        "listed = cars_df.car.unique()"
      ],
      "execution_count": null,
      "outputs": []
    },
    {
      "cell_type": "code",
      "metadata": {
        "colab": {
          "base_uri": "https://localhost:8080/"
        },
        "id": "aY2lPIkNPkbz",
        "outputId": "a8c34f09-48bb-482f-d23d-940492e72eb0"
      },
      "source": [
        "#Addind unique brands to a list so i can itterate through them below\n",
        "np.array(listed).tolist()"
      ],
      "execution_count": null,
      "outputs": [
        {
          "output_type": "execute_result",
          "data": {
            "text/plain": [
              "['Ford',\n",
              " 'Mercedes-Benz',\n",
              " 'Nissan',\n",
              " 'Honda',\n",
              " 'Renault',\n",
              " 'BMW',\n",
              " 'Volkswagen',\n",
              " 'Audi',\n",
              " 'Chrysler',\n",
              " 'Jaguar',\n",
              " 'Mitsubishi',\n",
              " 'Kia',\n",
              " 'Porsche',\n",
              " 'Toyota',\n",
              " 'Hyundai',\n",
              " 'Opel',\n",
              " 'Chevrolet',\n",
              " 'Skoda',\n",
              " 'Land Rover',\n",
              " 'Daewoo',\n",
              " 'Mazda',\n",
              " 'Lexus',\n",
              " 'Infiniti',\n",
              " 'Subaru',\n",
              " 'VAZ',\n",
              " 'Alfa Romeo',\n",
              " 'Smart',\n",
              " 'Peugeot',\n",
              " 'Suzuki',\n",
              " 'Chery',\n",
              " 'Bentley',\n",
              " 'Volvo',\n",
              " 'ZAZ',\n",
              " 'Citroen',\n",
              " 'Dodge',\n",
              " 'Fiat',\n",
              " 'Jeep',\n",
              " 'SsangYong',\n",
              " 'Seat',\n",
              " 'MINI',\n",
              " 'Dacia',\n",
              " 'Hummer',\n",
              " 'Geely',\n",
              " 'Maserati',\n",
              " 'BYD',\n",
              " 'Cadillac',\n",
              " 'Acura',\n",
              " 'Aston Martin',\n",
              " 'Rover',\n",
              " 'GAZ',\n",
              " 'GMC',\n",
              " 'Lincoln',\n",
              " 'Moskvich-AZLK',\n",
              " 'FAW',\n",
              " 'UAZ',\n",
              " 'TATA',\n",
              " 'ZX',\n",
              " 'Lifan',\n",
              " 'Mercury',\n",
              " 'Groz',\n",
              " 'Great Wall',\n",
              " 'Moskvich-Izh',\n",
              " 'Saab',\n",
              " 'Lancia',\n",
              " 'Aro',\n",
              " 'Ferrari',\n",
              " 'Dadi',\n",
              " 'Rolls-Royce',\n",
              " 'MG',\n",
              " 'Samand',\n",
              " 'JAC',\n",
              " 'Samsung',\n",
              " 'Lamborghini',\n",
              " 'Daihatsu',\n",
              " 'Hafei',\n",
              " 'SMA',\n",
              " 'ËUAZ',\n",
              " 'Bogdan',\n",
              " 'Isuzu',\n",
              " 'Huanghai',\n",
              " 'Wartburg',\n",
              " 'Buick']"
            ]
          },
          "metadata": {},
          "execution_count": 23
        }
      ]
    },
    {
      "cell_type": "markdown",
      "metadata": {
        "id": "RCZ0bEdgcr-f"
      },
      "source": [
        "My goal is to find a way to extract some value from the 'model' variable without having to use all 795 unique models. My plan is to rank each model within each brand of car using engType.\n",
        "\n",
        "The thinking here is that, in general, within each brand of car, the larger the engine the nicer the model. Some brands will have mostly small engines and some will have mostly large engines but\n",
        "\n",
        "By looping through each brand and classifying each model within that brand based on how large the engine is, hopefully I can engineer a meaningful feature. \n",
        "\n",
        "I will break the models into three classes: 3 for top class, 2 for standard class and 1 for low class"
      ]
    },
    {
      "cell_type": "code",
      "metadata": {
        "id": "_GOPIyCyBbK5"
      },
      "source": [
        "#creating a list of dictionaries of models zipped to the class by looping through each brand and classifying the models within each brand by the average engV of each model type\n",
        "master_dict = []\n",
        "for c in listed:\n",
        "  df = cars_df[cars_df['car'] == c]\n",
        "  df = df.groupby(['model'],as_index=False).engV.mean()\n",
        "  if df.model.count() > 2:\n",
        "    df.loc[df['engV'] >= np.percentile(df['engV'], 66, axis=0), 'model_class'] = 3.0\n",
        "    df.loc[df['engV'] < np.percentile(df['engV'], 66, axis=0), 'model_class'] = 2.0\n",
        "    df.loc[df['engV'] < np.percentile(df['engV'], 33, axis=0), 'model_class'] = 1.0\n",
        "  elif df.model.count() == 2:\n",
        "    df.loc[df['engV'] >= np.percentile(df['engV'], 50, axis=0), 'model_class'] = 2.5\n",
        "    df.loc[df['engV'] < np.percentile(df['engV'], 50, axis=0), 'model_class'] = 1.5\n",
        "  else: \n",
        "    df['model_class'] = 1.5\n",
        "  class_map = dict(zip(df.model, df.model_class))\n",
        "  master_dict.append(class_map)\n",
        "  "
      ],
      "execution_count": null,
      "outputs": []
    },
    {
      "cell_type": "code",
      "metadata": {
        "id": "p1kohs5djfU0"
      },
      "source": [
        "#creating a list of DataFrames for each brand and concating them to one DataFrame \n",
        "model_map = []\n",
        "for dic in master_dict:\n",
        "  new = pd.DataFrame.from_dict(dic, orient='index')\n",
        "  model_map.append(new)\n",
        "\n",
        "df_model_map = pd.concat(model_map)"
      ],
      "execution_count": null,
      "outputs": []
    },
    {
      "cell_type": "code",
      "metadata": {
        "colab": {
          "base_uri": "https://localhost:8080/",
          "height": 204
        },
        "id": "LmKaruAxmTWE",
        "outputId": "875ea917-b667-4462-c98b-02f883a22895"
      },
      "source": [
        "df_model_map.head()"
      ],
      "execution_count": null,
      "outputs": [
        {
          "output_type": "execute_result",
          "data": {
            "text/html": [
              "<div>\n",
              "<style scoped>\n",
              "    .dataframe tbody tr th:only-of-type {\n",
              "        vertical-align: middle;\n",
              "    }\n",
              "\n",
              "    .dataframe tbody tr th {\n",
              "        vertical-align: top;\n",
              "    }\n",
              "\n",
              "    .dataframe thead th {\n",
              "        text-align: right;\n",
              "    }\n",
              "</style>\n",
              "<table border=\"1\" class=\"dataframe\">\n",
              "  <thead>\n",
              "    <tr style=\"text-align: right;\">\n",
              "      <th></th>\n",
              "      <th>0</th>\n",
              "    </tr>\n",
              "  </thead>\n",
              "  <tbody>\n",
              "    <tr>\n",
              "      <th>B-Max</th>\n",
              "      <td>1.0</td>\n",
              "    </tr>\n",
              "    <tr>\n",
              "      <th>C-Max</th>\n",
              "      <td>1.0</td>\n",
              "    </tr>\n",
              "    <tr>\n",
              "      <th>Courier</th>\n",
              "      <td>1.0</td>\n",
              "    </tr>\n",
              "    <tr>\n",
              "      <th>Escort</th>\n",
              "      <td>2.0</td>\n",
              "    </tr>\n",
              "    <tr>\n",
              "      <th>Escort van</th>\n",
              "      <td>1.0</td>\n",
              "    </tr>\n",
              "  </tbody>\n",
              "</table>\n",
              "</div>"
            ],
            "text/plain": [
              "              0\n",
              "B-Max       1.0\n",
              "C-Max       1.0\n",
              "Courier     1.0\n",
              "Escort      2.0\n",
              "Escort van  1.0"
            ]
          },
          "metadata": {},
          "execution_count": 26
        }
      ]
    },
    {
      "cell_type": "code",
      "metadata": {
        "id": "AAbz-OnH4BLH"
      },
      "source": [
        "#creating a dic for mapping to the cars df\n",
        "class_map2 = dict(zip(df_model_map.index, df_model_map[0]))"
      ],
      "execution_count": null,
      "outputs": []
    },
    {
      "cell_type": "code",
      "metadata": {
        "id": "Vhmon0oC2pev"
      },
      "source": [
        "#mapping to the cars df\n",
        "cars_df['model_class'] = cars_df['model'].map(class_map2)"
      ],
      "execution_count": null,
      "outputs": []
    },
    {
      "cell_type": "markdown",
      "metadata": {
        "id": "STrLpTgYc2YD"
      },
      "source": [
        "Let's see if all that worked to add a new feature to the DF."
      ]
    },
    {
      "cell_type": "code",
      "metadata": {
        "colab": {
          "base_uri": "https://localhost:8080/",
          "height": 204
        },
        "id": "IIHOTYpX3WEo",
        "outputId": "6c1882c3-1385-42fa-e7b9-968339ed36d7"
      },
      "source": [
        "cars_df.head()"
      ],
      "execution_count": null,
      "outputs": [
        {
          "output_type": "execute_result",
          "data": {
            "text/html": [
              "<div>\n",
              "<style scoped>\n",
              "    .dataframe tbody tr th:only-of-type {\n",
              "        vertical-align: middle;\n",
              "    }\n",
              "\n",
              "    .dataframe tbody tr th {\n",
              "        vertical-align: top;\n",
              "    }\n",
              "\n",
              "    .dataframe thead th {\n",
              "        text-align: right;\n",
              "    }\n",
              "</style>\n",
              "<table border=\"1\" class=\"dataframe\">\n",
              "  <thead>\n",
              "    <tr style=\"text-align: right;\">\n",
              "      <th></th>\n",
              "      <th>car</th>\n",
              "      <th>price</th>\n",
              "      <th>body</th>\n",
              "      <th>mileage</th>\n",
              "      <th>engV</th>\n",
              "      <th>engType</th>\n",
              "      <th>registration</th>\n",
              "      <th>year</th>\n",
              "      <th>model</th>\n",
              "      <th>drive</th>\n",
              "      <th>log_price</th>\n",
              "      <th>model_class</th>\n",
              "    </tr>\n",
              "  </thead>\n",
              "  <tbody>\n",
              "    <tr>\n",
              "      <th>0</th>\n",
              "      <td>Ford</td>\n",
              "      <td>15500.0</td>\n",
              "      <td>crossover</td>\n",
              "      <td>68</td>\n",
              "      <td>2.5</td>\n",
              "      <td>Gas</td>\n",
              "      <td>yes</td>\n",
              "      <td>2010</td>\n",
              "      <td>Kuga</td>\n",
              "      <td>full</td>\n",
              "      <td>9.648595</td>\n",
              "      <td>3.0</td>\n",
              "    </tr>\n",
              "    <tr>\n",
              "      <th>1</th>\n",
              "      <td>Mercedes-Benz</td>\n",
              "      <td>20500.0</td>\n",
              "      <td>sedan</td>\n",
              "      <td>173</td>\n",
              "      <td>1.8</td>\n",
              "      <td>Gas</td>\n",
              "      <td>yes</td>\n",
              "      <td>2011</td>\n",
              "      <td>E-Class</td>\n",
              "      <td>rear</td>\n",
              "      <td>9.928180</td>\n",
              "      <td>2.0</td>\n",
              "    </tr>\n",
              "    <tr>\n",
              "      <th>2</th>\n",
              "      <td>Mercedes-Benz</td>\n",
              "      <td>35000.0</td>\n",
              "      <td>other</td>\n",
              "      <td>135</td>\n",
              "      <td>5.5</td>\n",
              "      <td>Petrol</td>\n",
              "      <td>yes</td>\n",
              "      <td>2008</td>\n",
              "      <td>CL 550</td>\n",
              "      <td>rear</td>\n",
              "      <td>10.463103</td>\n",
              "      <td>3.0</td>\n",
              "    </tr>\n",
              "    <tr>\n",
              "      <th>3</th>\n",
              "      <td>Mercedes-Benz</td>\n",
              "      <td>17800.0</td>\n",
              "      <td>van</td>\n",
              "      <td>162</td>\n",
              "      <td>1.8</td>\n",
              "      <td>Diesel</td>\n",
              "      <td>yes</td>\n",
              "      <td>2012</td>\n",
              "      <td>B 180</td>\n",
              "      <td>front</td>\n",
              "      <td>9.786954</td>\n",
              "      <td>1.0</td>\n",
              "    </tr>\n",
              "    <tr>\n",
              "      <th>5</th>\n",
              "      <td>Nissan</td>\n",
              "      <td>16600.0</td>\n",
              "      <td>crossover</td>\n",
              "      <td>83</td>\n",
              "      <td>2.0</td>\n",
              "      <td>Petrol</td>\n",
              "      <td>yes</td>\n",
              "      <td>2013</td>\n",
              "      <td>X-Trail</td>\n",
              "      <td>full</td>\n",
              "      <td>9.717158</td>\n",
              "      <td>2.0</td>\n",
              "    </tr>\n",
              "  </tbody>\n",
              "</table>\n",
              "</div>"
            ],
            "text/plain": [
              "             car    price       body  ...  drive  log_price model_class\n",
              "0           Ford  15500.0  crossover  ...   full   9.648595         3.0\n",
              "1  Mercedes-Benz  20500.0      sedan  ...   rear   9.928180         2.0\n",
              "2  Mercedes-Benz  35000.0      other  ...   rear  10.463103         3.0\n",
              "3  Mercedes-Benz  17800.0        van  ...  front   9.786954         1.0\n",
              "5         Nissan  16600.0  crossover  ...   full   9.717158         2.0\n",
              "\n",
              "[5 rows x 12 columns]"
            ]
          },
          "metadata": {},
          "execution_count": 29
        }
      ]
    },
    {
      "cell_type": "markdown",
      "metadata": {
        "id": "1ppmQVhlc_IQ"
      },
      "source": [
        "Below I will use a correlation matrix again to see how correlated the new feature is to the target."
      ]
    },
    {
      "cell_type": "code",
      "metadata": {
        "id": "85UAX2sk3uJp",
        "colab": {
          "base_uri": "https://localhost:8080/",
          "height": 867
        },
        "outputId": "dcb628a4-b6ee-4098-cc9b-89dee127dcff"
      },
      "source": [
        "#the new feature does seem to have a stronger correlation with the target than engV alone.\n",
        "\n",
        "cars_corr2 = cars_df.corr()\n",
        "plt.figure(figsize=(15,15))\n",
        "sns.heatmap(cars_corr2, square=True, annot=True, linewidths=.5)\n",
        "plt.title(\"correlation matrix\")"
      ],
      "execution_count": null,
      "outputs": [
        {
          "output_type": "execute_result",
          "data": {
            "text/plain": [
              "Text(0.5, 1.0, 'correlation matrix')"
            ]
          },
          "metadata": {},
          "execution_count": 30
        },
        {
          "output_type": "display_data",
          "data": {
            "image/png": "[encoded data removed]",
            "text/plain": [
              "<Figure size 1080x1080 with 2 Axes>"
            ]
          },
          "metadata": {
            "needs_background": "light"
          }
        }
      ]
    },
    {
      "cell_type": "code",
      "metadata": {
        "id": "KMa_7hewkhlG"
      },
      "source": [
        "#creating a new dataset for the testing\n",
        "\n",
        "train = cars_df"
      ],
      "execution_count": null,
      "outputs": []
    },
    {
      "cell_type": "code",
      "metadata": {
        "colab": {
          "base_uri": "https://localhost:8080/",
          "height": 204
        },
        "id": "Hh9_W6_YkxfY",
        "outputId": "468b53fe-9902-46ee-9608-b657ee7f85d2"
      },
      "source": [
        "train.head()"
      ],
      "execution_count": null,
      "outputs": [
        {
          "output_type": "execute_result",
          "data": {
            "text/html": [
              "<div>\n",
              "<style scoped>\n",
              "    .dataframe tbody tr th:only-of-type {\n",
              "        vertical-align: middle;\n",
              "    }\n",
              "\n",
              "    .dataframe tbody tr th {\n",
              "        vertical-align: top;\n",
              "    }\n",
              "\n",
              "    .dataframe thead th {\n",
              "        text-align: right;\n",
              "    }\n",
              "</style>\n",
              "<table border=\"1\" class=\"dataframe\">\n",
              "  <thead>\n",
              "    <tr style=\"text-align: right;\">\n",
              "      <th></th>\n",
              "      <th>car</th>\n",
              "      <th>price</th>\n",
              "      <th>body</th>\n",
              "      <th>mileage</th>\n",
              "      <th>engV</th>\n",
              "      <th>engType</th>\n",
              "      <th>registration</th>\n",
              "      <th>year</th>\n",
              "      <th>model</th>\n",
              "      <th>drive</th>\n",
              "      <th>log_price</th>\n",
              "      <th>model_class</th>\n",
              "    </tr>\n",
              "  </thead>\n",
              "  <tbody>\n",
              "    <tr>\n",
              "      <th>0</th>\n",
              "      <td>Ford</td>\n",
              "      <td>15500.0</td>\n",
              "      <td>crossover</td>\n",
              "      <td>68</td>\n",
              "      <td>2.5</td>\n",
              "      <td>Gas</td>\n",
              "      <td>yes</td>\n",
              "      <td>2010</td>\n",
              "      <td>Kuga</td>\n",
              "      <td>full</td>\n",
              "      <td>9.648595</td>\n",
              "      <td>3.0</td>\n",
              "    </tr>\n",
              "    <tr>\n",
              "      <th>1</th>\n",
              "      <td>Mercedes-Benz</td>\n",
              "      <td>20500.0</td>\n",
              "      <td>sedan</td>\n",
              "      <td>173</td>\n",
              "      <td>1.8</td>\n",
              "      <td>Gas</td>\n",
              "      <td>yes</td>\n",
              "      <td>2011</td>\n",
              "      <td>E-Class</td>\n",
              "      <td>rear</td>\n",
              "      <td>9.928180</td>\n",
              "      <td>2.0</td>\n",
              "    </tr>\n",
              "    <tr>\n",
              "      <th>2</th>\n",
              "      <td>Mercedes-Benz</td>\n",
              "      <td>35000.0</td>\n",
              "      <td>other</td>\n",
              "      <td>135</td>\n",
              "      <td>5.5</td>\n",
              "      <td>Petrol</td>\n",
              "      <td>yes</td>\n",
              "      <td>2008</td>\n",
              "      <td>CL 550</td>\n",
              "      <td>rear</td>\n",
              "      <td>10.463103</td>\n",
              "      <td>3.0</td>\n",
              "    </tr>\n",
              "    <tr>\n",
              "      <th>3</th>\n",
              "      <td>Mercedes-Benz</td>\n",
              "      <td>17800.0</td>\n",
              "      <td>van</td>\n",
              "      <td>162</td>\n",
              "      <td>1.8</td>\n",
              "      <td>Diesel</td>\n",
              "      <td>yes</td>\n",
              "      <td>2012</td>\n",
              "      <td>B 180</td>\n",
              "      <td>front</td>\n",
              "      <td>9.786954</td>\n",
              "      <td>1.0</td>\n",
              "    </tr>\n",
              "    <tr>\n",
              "      <th>5</th>\n",
              "      <td>Nissan</td>\n",
              "      <td>16600.0</td>\n",
              "      <td>crossover</td>\n",
              "      <td>83</td>\n",
              "      <td>2.0</td>\n",
              "      <td>Petrol</td>\n",
              "      <td>yes</td>\n",
              "      <td>2013</td>\n",
              "      <td>X-Trail</td>\n",
              "      <td>full</td>\n",
              "      <td>9.717158</td>\n",
              "      <td>2.0</td>\n",
              "    </tr>\n",
              "  </tbody>\n",
              "</table>\n",
              "</div>"
            ],
            "text/plain": [
              "             car    price       body  ...  drive  log_price model_class\n",
              "0           Ford  15500.0  crossover  ...   full   9.648595         3.0\n",
              "1  Mercedes-Benz  20500.0      sedan  ...   rear   9.928180         2.0\n",
              "2  Mercedes-Benz  35000.0      other  ...   rear  10.463103         3.0\n",
              "3  Mercedes-Benz  17800.0        van  ...  front   9.786954         1.0\n",
              "5         Nissan  16600.0  crossover  ...   full   9.717158         2.0\n",
              "\n",
              "[5 rows x 12 columns]"
            ]
          },
          "metadata": {},
          "execution_count": 32
        }
      ]
    },
    {
      "cell_type": "code",
      "metadata": {
        "id": "FTfzBGLMkz5g"
      },
      "source": [
        "#I dont need model anymore so I can drop that variable\n",
        "train = train.drop(['model'], axis = 1)"
      ],
      "execution_count": null,
      "outputs": []
    },
    {
      "cell_type": "code",
      "metadata": {
        "id": "nGfHHp9nl6BA"
      },
      "source": [
        "#Getting dummies for the other categorical variables\n",
        "cars = pd.get_dummies(train.car, drop_first=True)"
      ],
      "execution_count": null,
      "outputs": []
    },
    {
      "cell_type": "code",
      "metadata": {
        "id": "5pvRrwLzmQOT"
      },
      "source": [
        "body = pd.get_dummies(train.body, drop_first=True)\n",
        "eng = pd.get_dummies(train.engType, drop_first=True)\n",
        "reg = pd.get_dummies(train.registration, drop_first=True)\n",
        "drive = pd.get_dummies(train.drive, drop_first=True)"
      ],
      "execution_count": null,
      "outputs": []
    },
    {
      "cell_type": "code",
      "metadata": {
        "id": "6XWQ-9uImiGv"
      },
      "source": [
        "train = train.join(body)\n",
        "train = train.join(eng)\n",
        "train = train.join(reg)\n",
        "train = train.join(drive)\n",
        "train = train.join(cars)\n",
        "\n",
        "train = train.drop(['car', 'body', 'engType', 'registration', 'drive'], axis = 1)"
      ],
      "execution_count": null,
      "outputs": []
    },
    {
      "cell_type": "code",
      "metadata": {
        "colab": {
          "base_uri": "https://localhost:8080/",
          "height": 270
        },
        "id": "2VlMGFEEnBdD",
        "outputId": "294b5456-062b-4f24-b66e-4d9da1e21d50"
      },
      "source": [
        "train.head()"
      ],
      "execution_count": null,
      "outputs": [
        {
          "output_type": "execute_result",
          "data": {
            "text/html": [
              "<div>\n",
              "<style scoped>\n",
              "    .dataframe tbody tr th:only-of-type {\n",
              "        vertical-align: middle;\n",
              "    }\n",
              "\n",
              "    .dataframe tbody tr th {\n",
              "        vertical-align: top;\n",
              "    }\n",
              "\n",
              "    .dataframe thead th {\n",
              "        text-align: right;\n",
              "    }\n",
              "</style>\n",
              "<table border=\"1\" class=\"dataframe\">\n",
              "  <thead>\n",
              "    <tr style=\"text-align: right;\">\n",
              "      <th></th>\n",
              "      <th>price</th>\n",
              "      <th>mileage</th>\n",
              "      <th>engV</th>\n",
              "      <th>year</th>\n",
              "      <th>log_price</th>\n",
              "      <th>model_class</th>\n",
              "      <th>hatch</th>\n",
              "      <th>other</th>\n",
              "      <th>sedan</th>\n",
              "      <th>vagon</th>\n",
              "      <th>van</th>\n",
              "      <th>Gas</th>\n",
              "      <th>Petrol</th>\n",
              "      <th>yes</th>\n",
              "      <th>full</th>\n",
              "      <th>rear</th>\n",
              "      <th>Alfa Romeo</th>\n",
              "      <th>Aro</th>\n",
              "      <th>Aston Martin</th>\n",
              "      <th>Audi</th>\n",
              "      <th>BMW</th>\n",
              "      <th>BYD</th>\n",
              "      <th>Bentley</th>\n",
              "      <th>Bogdan</th>\n",
              "      <th>Buick</th>\n",
              "      <th>Cadillac</th>\n",
              "      <th>Chery</th>\n",
              "      <th>Chevrolet</th>\n",
              "      <th>Chrysler</th>\n",
              "      <th>Citroen</th>\n",
              "      <th>Dacia</th>\n",
              "      <th>Dadi</th>\n",
              "      <th>Daewoo</th>\n",
              "      <th>Daihatsu</th>\n",
              "      <th>Dodge</th>\n",
              "      <th>FAW</th>\n",
              "      <th>Ferrari</th>\n",
              "      <th>Fiat</th>\n",
              "      <th>Ford</th>\n",
              "      <th>GAZ</th>\n",
              "      <th>...</th>\n",
              "      <th>Land Rover</th>\n",
              "      <th>Lexus</th>\n",
              "      <th>Lifan</th>\n",
              "      <th>Lincoln</th>\n",
              "      <th>MG</th>\n",
              "      <th>MINI</th>\n",
              "      <th>Maserati</th>\n",
              "      <th>Mazda</th>\n",
              "      <th>Mercedes-Benz</th>\n",
              "      <th>Mercury</th>\n",
              "      <th>Mitsubishi</th>\n",
              "      <th>Moskvich-AZLK</th>\n",
              "      <th>Moskvich-Izh</th>\n",
              "      <th>Nissan</th>\n",
              "      <th>Opel</th>\n",
              "      <th>Peugeot</th>\n",
              "      <th>Porsche</th>\n",
              "      <th>Renault</th>\n",
              "      <th>Rolls-Royce</th>\n",
              "      <th>Rover</th>\n",
              "      <th>SMA</th>\n",
              "      <th>Saab</th>\n",
              "      <th>Samand</th>\n",
              "      <th>Samsung</th>\n",
              "      <th>Seat</th>\n",
              "      <th>Skoda</th>\n",
              "      <th>Smart</th>\n",
              "      <th>SsangYong</th>\n",
              "      <th>Subaru</th>\n",
              "      <th>Suzuki</th>\n",
              "      <th>TATA</th>\n",
              "      <th>Toyota</th>\n",
              "      <th>UAZ</th>\n",
              "      <th>VAZ</th>\n",
              "      <th>Volkswagen</th>\n",
              "      <th>Volvo</th>\n",
              "      <th>Wartburg</th>\n",
              "      <th>ZAZ</th>\n",
              "      <th>ZX</th>\n",
              "      <th>ËUAZ</th>\n",
              "    </tr>\n",
              "  </thead>\n",
              "  <tbody>\n",
              "    <tr>\n",
              "      <th>0</th>\n",
              "      <td>15500.0</td>\n",
              "      <td>68</td>\n",
              "      <td>2.5</td>\n",
              "      <td>2010</td>\n",
              "      <td>9.648595</td>\n",
              "      <td>3.0</td>\n",
              "      <td>0</td>\n",
              "      <td>0</td>\n",
              "      <td>0</td>\n",
              "      <td>0</td>\n",
              "      <td>0</td>\n",
              "      <td>1</td>\n",
              "      <td>0</td>\n",
              "      <td>1</td>\n",
              "      <td>1</td>\n",
              "      <td>0</td>\n",
              "      <td>0</td>\n",
              "      <td>0</td>\n",
              "      <td>0</td>\n",
              "      <td>0</td>\n",
              "      <td>0</td>\n",
              "      <td>0</td>\n",
              "      <td>0</td>\n",
              "      <td>0</td>\n",
              "      <td>0</td>\n",
              "      <td>0</td>\n",
              "      <td>0</td>\n",
              "      <td>0</td>\n",
              "      <td>0</td>\n",
              "      <td>0</td>\n",
              "      <td>0</td>\n",
              "      <td>0</td>\n",
              "      <td>0</td>\n",
              "      <td>0</td>\n",
              "      <td>0</td>\n",
              "      <td>0</td>\n",
              "      <td>0</td>\n",
              "      <td>0</td>\n",
              "      <td>1</td>\n",
              "      <td>0</td>\n",
              "      <td>...</td>\n",
              "      <td>0</td>\n",
              "      <td>0</td>\n",
              "      <td>0</td>\n",
              "      <td>0</td>\n",
              "      <td>0</td>\n",
              "      <td>0</td>\n",
              "      <td>0</td>\n",
              "      <td>0</td>\n",
              "      <td>0</td>\n",
              "      <td>0</td>\n",
              "      <td>0</td>\n",
              "      <td>0</td>\n",
              "      <td>0</td>\n",
              "      <td>0</td>\n",
              "      <td>0</td>\n",
              "      <td>0</td>\n",
              "      <td>0</td>\n",
              "      <td>0</td>\n",
              "      <td>0</td>\n",
              "      <td>0</td>\n",
              "      <td>0</td>\n",
              "      <td>0</td>\n",
              "      <td>0</td>\n",
              "      <td>0</td>\n",
              "      <td>0</td>\n",
              "      <td>0</td>\n",
              "      <td>0</td>\n",
              "      <td>0</td>\n",
              "      <td>0</td>\n",
              "      <td>0</td>\n",
              "      <td>0</td>\n",
              "      <td>0</td>\n",
              "      <td>0</td>\n",
              "      <td>0</td>\n",
              "      <td>0</td>\n",
              "      <td>0</td>\n",
              "      <td>0</td>\n",
              "      <td>0</td>\n",
              "      <td>0</td>\n",
              "      <td>0</td>\n",
              "    </tr>\n",
              "    <tr>\n",
              "      <th>1</th>\n",
              "      <td>20500.0</td>\n",
              "      <td>173</td>\n",
              "      <td>1.8</td>\n",
              "      <td>2011</td>\n",
              "      <td>9.928180</td>\n",
              "      <td>2.0</td>\n",
              "      <td>0</td>\n",
              "      <td>0</td>\n",
              "      <td>1</td>\n",
              "      <td>0</td>\n",
              "      <td>0</td>\n",
              "      <td>1</td>\n",
              "      <td>0</td>\n",
              "      <td>1</td>\n",
              "      <td>0</td>\n",
              "      <td>1</td>\n",
              "      <td>0</td>\n",
              "      <td>0</td>\n",
              "      <td>0</td>\n",
              "      <td>0</td>\n",
              "      <td>0</td>\n",
              "      <td>0</td>\n",
              "      <td>0</td>\n",
              "      <td>0</td>\n",
              "      <td>0</td>\n",
              "      <td>0</td>\n",
              "      <td>0</td>\n",
              "      <td>0</td>\n",
              "      <td>0</td>\n",
              "      <td>0</td>\n",
              "      <td>0</td>\n",
              "      <td>0</td>\n",
              "      <td>0</td>\n",
              "      <td>0</td>\n",
              "      <td>0</td>\n",
              "      <td>0</td>\n",
              "      <td>0</td>\n",
              "      <td>0</td>\n",
              "      <td>0</td>\n",
              "      <td>0</td>\n",
              "      <td>...</td>\n",
              "      <td>0</td>\n",
              "      <td>0</td>\n",
              "      <td>0</td>\n",
              "      <td>0</td>\n",
              "      <td>0</td>\n",
              "      <td>0</td>\n",
              "      <td>0</td>\n",
              "      <td>0</td>\n",
              "      <td>1</td>\n",
              "      <td>0</td>\n",
              "      <td>0</td>\n",
              "      <td>0</td>\n",
              "      <td>0</td>\n",
              "      <td>0</td>\n",
              "      <td>0</td>\n",
              "      <td>0</td>\n",
              "      <td>0</td>\n",
              "      <td>0</td>\n",
              "      <td>0</td>\n",
              "      <td>0</td>\n",
              "      <td>0</td>\n",
              "      <td>0</td>\n",
              "      <td>0</td>\n",
              "      <td>0</td>\n",
              "      <td>0</td>\n",
              "      <td>0</td>\n",
              "      <td>0</td>\n",
              "      <td>0</td>\n",
              "      <td>0</td>\n",
              "      <td>0</td>\n",
              "      <td>0</td>\n",
              "      <td>0</td>\n",
              "      <td>0</td>\n",
              "      <td>0</td>\n",
              "      <td>0</td>\n",
              "      <td>0</td>\n",
              "      <td>0</td>\n",
              "      <td>0</td>\n",
              "      <td>0</td>\n",
              "      <td>0</td>\n",
              "    </tr>\n",
              "    <tr>\n",
              "      <th>2</th>\n",
              "      <td>35000.0</td>\n",
              "      <td>135</td>\n",
              "      <td>5.5</td>\n",
              "      <td>2008</td>\n",
              "      <td>10.463103</td>\n",
              "      <td>3.0</td>\n",
              "      <td>0</td>\n",
              "      <td>1</td>\n",
              "      <td>0</td>\n",
              "      <td>0</td>\n",
              "      <td>0</td>\n",
              "      <td>0</td>\n",
              "      <td>1</td>\n",
              "      <td>1</td>\n",
              "      <td>0</td>\n",
              "      <td>1</td>\n",
              "      <td>0</td>\n",
              "      <td>0</td>\n",
              "      <td>0</td>\n",
              "      <td>0</td>\n",
              "      <td>0</td>\n",
              "      <td>0</td>\n",
              "      <td>0</td>\n",
              "      <td>0</td>\n",
              "      <td>0</td>\n",
              "      <td>0</td>\n",
              "      <td>0</td>\n",
              "      <td>0</td>\n",
              "      <td>0</td>\n",
              "      <td>0</td>\n",
              "      <td>0</td>\n",
              "      <td>0</td>\n",
              "      <td>0</td>\n",
              "      <td>0</td>\n",
              "      <td>0</td>\n",
              "      <td>0</td>\n",
              "      <td>0</td>\n",
              "      <td>0</td>\n",
              "      <td>0</td>\n",
              "      <td>0</td>\n",
              "      <td>...</td>\n",
              "      <td>0</td>\n",
              "      <td>0</td>\n",
              "      <td>0</td>\n",
              "      <td>0</td>\n",
              "      <td>0</td>\n",
              "      <td>0</td>\n",
              "      <td>0</td>\n",
              "      <td>0</td>\n",
              "      <td>1</td>\n",
              "      <td>0</td>\n",
              "      <td>0</td>\n",
              "      <td>0</td>\n",
              "      <td>0</td>\n",
              "      <td>0</td>\n",
              "      <td>0</td>\n",
              "      <td>0</td>\n",
              "      <td>0</td>\n",
              "      <td>0</td>\n",
              "      <td>0</td>\n",
              "      <td>0</td>\n",
              "      <td>0</td>\n",
              "      <td>0</td>\n",
              "      <td>0</td>\n",
              "      <td>0</td>\n",
              "      <td>0</td>\n",
              "      <td>0</td>\n",
              "      <td>0</td>\n",
              "      <td>0</td>\n",
              "      <td>0</td>\n",
              "      <td>0</td>\n",
              "      <td>0</td>\n",
              "      <td>0</td>\n",
              "      <td>0</td>\n",
              "      <td>0</td>\n",
              "      <td>0</td>\n",
              "      <td>0</td>\n",
              "      <td>0</td>\n",
              "      <td>0</td>\n",
              "      <td>0</td>\n",
              "      <td>0</td>\n",
              "    </tr>\n",
              "    <tr>\n",
              "      <th>3</th>\n",
              "      <td>17800.0</td>\n",
              "      <td>162</td>\n",
              "      <td>1.8</td>\n",
              "      <td>2012</td>\n",
              "      <td>9.786954</td>\n",
              "      <td>1.0</td>\n",
              "      <td>0</td>\n",
              "      <td>0</td>\n",
              "      <td>0</td>\n",
              "      <td>0</td>\n",
              "      <td>1</td>\n",
              "      <td>0</td>\n",
              "      <td>0</td>\n",
              "      <td>1</td>\n",
              "      <td>0</td>\n",
              "      <td>0</td>\n",
              "      <td>0</td>\n",
              "      <td>0</td>\n",
              "      <td>0</td>\n",
              "      <td>0</td>\n",
              "      <td>0</td>\n",
              "      <td>0</td>\n",
              "      <td>0</td>\n",
              "      <td>0</td>\n",
              "      <td>0</td>\n",
              "      <td>0</td>\n",
              "      <td>0</td>\n",
              "      <td>0</td>\n",
              "      <td>0</td>\n",
              "      <td>0</td>\n",
              "      <td>0</td>\n",
              "      <td>0</td>\n",
              "      <td>0</td>\n",
              "      <td>0</td>\n",
              "      <td>0</td>\n",
              "      <td>0</td>\n",
              "      <td>0</td>\n",
              "      <td>0</td>\n",
              "      <td>0</td>\n",
              "      <td>0</td>\n",
              "      <td>...</td>\n",
              "      <td>0</td>\n",
              "      <td>0</td>\n",
              "      <td>0</td>\n",
              "      <td>0</td>\n",
              "      <td>0</td>\n",
              "      <td>0</td>\n",
              "      <td>0</td>\n",
              "      <td>0</td>\n",
              "      <td>1</td>\n",
              "      <td>0</td>\n",
              "      <td>0</td>\n",
              "      <td>0</td>\n",
              "      <td>0</td>\n",
              "      <td>0</td>\n",
              "      <td>0</td>\n",
              "      <td>0</td>\n",
              "      <td>0</td>\n",
              "      <td>0</td>\n",
              "      <td>0</td>\n",
              "      <td>0</td>\n",
              "      <td>0</td>\n",
              "      <td>0</td>\n",
              "      <td>0</td>\n",
              "      <td>0</td>\n",
              "      <td>0</td>\n",
              "      <td>0</td>\n",
              "      <td>0</td>\n",
              "      <td>0</td>\n",
              "      <td>0</td>\n",
              "      <td>0</td>\n",
              "      <td>0</td>\n",
              "      <td>0</td>\n",
              "      <td>0</td>\n",
              "      <td>0</td>\n",
              "      <td>0</td>\n",
              "      <td>0</td>\n",
              "      <td>0</td>\n",
              "      <td>0</td>\n",
              "      <td>0</td>\n",
              "      <td>0</td>\n",
              "    </tr>\n",
              "    <tr>\n",
              "      <th>5</th>\n",
              "      <td>16600.0</td>\n",
              "      <td>83</td>\n",
              "      <td>2.0</td>\n",
              "      <td>2013</td>\n",
              "      <td>9.717158</td>\n",
              "      <td>2.0</td>\n",
              "      <td>0</td>\n",
              "      <td>0</td>\n",
              "      <td>0</td>\n",
              "      <td>0</td>\n",
              "      <td>0</td>\n",
              "      <td>0</td>\n",
              "      <td>1</td>\n",
              "      <td>1</td>\n",
              "      <td>1</td>\n",
              "      <td>0</td>\n",
              "      <td>0</td>\n",
              "      <td>0</td>\n",
              "      <td>0</td>\n",
              "      <td>0</td>\n",
              "      <td>0</td>\n",
              "      <td>0</td>\n",
              "      <td>0</td>\n",
              "      <td>0</td>\n",
              "      <td>0</td>\n",
              "      <td>0</td>\n",
              "      <td>0</td>\n",
              "      <td>0</td>\n",
              "      <td>0</td>\n",
              "      <td>0</td>\n",
              "      <td>0</td>\n",
              "      <td>0</td>\n",
              "      <td>0</td>\n",
              "      <td>0</td>\n",
              "      <td>0</td>\n",
              "      <td>0</td>\n",
              "      <td>0</td>\n",
              "      <td>0</td>\n",
              "      <td>0</td>\n",
              "      <td>0</td>\n",
              "      <td>...</td>\n",
              "      <td>0</td>\n",
              "      <td>0</td>\n",
              "      <td>0</td>\n",
              "      <td>0</td>\n",
              "      <td>0</td>\n",
              "      <td>0</td>\n",
              "      <td>0</td>\n",
              "      <td>0</td>\n",
              "      <td>0</td>\n",
              "      <td>0</td>\n",
              "      <td>0</td>\n",
              "      <td>0</td>\n",
              "      <td>0</td>\n",
              "      <td>1</td>\n",
              "      <td>0</td>\n",
              "      <td>0</td>\n",
              "      <td>0</td>\n",
              "      <td>0</td>\n",
              "      <td>0</td>\n",
              "      <td>0</td>\n",
              "      <td>0</td>\n",
              "      <td>0</td>\n",
              "      <td>0</td>\n",
              "      <td>0</td>\n",
              "      <td>0</td>\n",
              "      <td>0</td>\n",
              "      <td>0</td>\n",
              "      <td>0</td>\n",
              "      <td>0</td>\n",
              "      <td>0</td>\n",
              "      <td>0</td>\n",
              "      <td>0</td>\n",
              "      <td>0</td>\n",
              "      <td>0</td>\n",
              "      <td>0</td>\n",
              "      <td>0</td>\n",
              "      <td>0</td>\n",
              "      <td>0</td>\n",
              "      <td>0</td>\n",
              "      <td>0</td>\n",
              "    </tr>\n",
              "  </tbody>\n",
              "</table>\n",
              "<p>5 rows × 97 columns</p>\n",
              "</div>"
            ],
            "text/plain": [
              "     price  mileage  engV  year  log_price  ...  Volvo  Wartburg  ZAZ  ZX  ËUAZ\n",
              "0  15500.0       68   2.5  2010   9.648595  ...      0         0    0   0     0\n",
              "1  20500.0      173   1.8  2011   9.928180  ...      0         0    0   0     0\n",
              "2  35000.0      135   5.5  2008  10.463103  ...      0         0    0   0     0\n",
              "3  17800.0      162   1.8  2012   9.786954  ...      0         0    0   0     0\n",
              "5  16600.0       83   2.0  2013   9.717158  ...      0         0    0   0     0\n",
              "\n",
              "[5 rows x 97 columns]"
            ]
          },
          "metadata": {},
          "execution_count": 37
        }
      ]
    },
    {
      "cell_type": "markdown",
      "metadata": {
        "id": "LXZ_XU6pdLXV"
      },
      "source": [
        "At this point, the DF looks good to. I am ready to start training some models."
      ]
    },
    {
      "cell_type": "code",
      "metadata": {
        "colab": {
          "base_uri": "https://localhost:8080/"
        },
        "id": "p8dcMnrRnKkL",
        "outputId": "92a77dd9-c753-4ed6-a15a-bed34f222365"
      },
      "source": [
        "#setting up some lists for comparing the models\n",
        "\n",
        "cv_mean = []\n",
        "cv_variance = []\n",
        "\n",
        "mae = []\n",
        "mse_l = []\n",
        "rmse_l = []\n",
        "mape = []\n",
        "\n",
        "#regression\n",
        "from sklearn.linear_model import LinearRegression\n",
        "from sklearn.model_selection import cross_val_score, GridSearchCV\n",
        "from sklearn.model_selection import train_test_split\n",
        "\n",
        "X = train.drop(['price', 'log_price'], axis=1)\n",
        "y = cars_df['log_price']\n",
        "\n",
        "\n",
        "X_train, X_test, y_train, y_test = train_test_split(X, y, test_size=0.3, random_state=0)\n",
        "\n",
        "# Fit an OLS model using scikit-learn\n",
        "lrm = LinearRegression()\n",
        "lrm.fit(X_train, y_train)\n",
        "\n",
        "\n",
        "y_preds_test = lrm.predict(X_test)\n",
        "\n",
        "from sklearn.metrics import mean_absolute_error\n",
        "from statsmodels.tools.eval_measures import mse, rmse\n",
        "\n",
        "\n",
        "cross_va_lrm = cross_val_score(lrm, X_train, y_train, cv=10)\n",
        "\n",
        "cv_mean_lrm = cross_va_lrm.mean()\n",
        "cv_variance_lrm  = cross_va_lrm.var()\n",
        "mae_lrm = mean_absolute_error(y_test, y_preds_test)\n",
        "mse_lrm  = mse(y_test, y_preds_test)\n",
        "rmse_lrm  = rmse(y_test, y_preds_test)\n",
        "mape_lrm  = np.mean(np.abs((y_test - y_preds_test) / y_test)) * 100\n",
        "\n",
        "cv_mean.append(cv_mean_lrm)\n",
        "cv_variance.append(cv_variance_lrm)\n",
        "\n",
        "mae.append(mae_lrm)\n",
        "mse_l.append(mse_lrm)\n",
        "rmse_l.append(rmse_lrm)\n",
        "mape.append(mape_lrm)\n",
        "\n",
        "print('Cross-Validation: {} \\n' .format(cross_va_lrm))\n",
        "print('Cross-Validation mean: {} \\n' .format(cv_mean_lrm))\n",
        "print('Cross-Validation variance: {}\\n' .format(cv_variance_lrm))\n",
        "\n",
        "print(\"-----Test set statistics-----\")\n",
        "\n",
        "print(\"Mean absolute error of the prediction is: {}\".format(mae_lrm))\n",
        "print(\"Mean squared error of the prediction is: {}\".format(mse_lrm))\n",
        "print(\"Root mean squared error of the prediction is: {}\".format(rmse_lrm))\n",
        "print(\"Mean absolute percentage error of the prediction is: {}\".format(mape_lrm))"
      ],
      "execution_count": null,
      "outputs": [
        {
          "output_type": "stream",
          "name": "stdout",
          "text": [
            "Cross-Validation: [0.8924473  0.8932529  0.88801206 0.89146541 0.91112481 0.8929563\n",
            " 0.88550207 0.88906463 0.88549414 0.89165452] \n",
            "\n",
            "Cross-Validation mean: 0.8920974134379829 \n",
            "\n",
            "Cross-Validation variance: 4.778223095604942e-05\n",
            "\n",
            "-----Test set statistics-----\n",
            "Mean absolute error of the prediction is: 0.2222571320976375\n",
            "Mean squared error of the prediction is: 0.09273852231369356\n",
            "Root mean squared error of the prediction is: 0.3045300023211072\n",
            "Mean absolute percentage error of the prediction is: 2.4156116359116964\n"
          ]
        }
      ]
    },
    {
      "cell_type": "code",
      "metadata": {
        "colab": {
          "base_uri": "https://localhost:8080/"
        },
        "id": "QAH_gi2JoKsV",
        "outputId": "1c6bfb59-da71-4ef5-c060-fa398d478ad6"
      },
      "source": [
        "#Ridge\n",
        "from sklearn.linear_model import RidgeCV\n",
        "\n",
        "alphas = [10.0 ** p for p in np.arange(-10,40,1)]\n",
        "\n",
        "ridge_cv = RidgeCV(alphas=alphas, cv=5)\n",
        "\n",
        "ridge_cv.fit(X_train, y_train)\n",
        "\n",
        "\n",
        "y_preds_test = ridge_cv.predict(X_test)\n",
        "\n",
        "cross_va_ridge_cv = cross_val_score(ridge_cv, X_train, y_train, cv=10)\n",
        "\n",
        "cv_mean_ridge_cv = cross_va_ridge_cv.mean()\n",
        "cv_variance_ridge_cv  = cross_va_ridge_cv.var()\n",
        "mae_ridge_cv = mean_absolute_error(y_test, y_preds_test)\n",
        "mse_ridge_cv  = mse(y_test, y_preds_test)\n",
        "rmse_ridge_cv  = rmse(y_test, y_preds_test)\n",
        "mape_ridge_cv  = np.mean(np.abs((y_test - y_preds_test) / y_test)) * 100\n",
        "\n",
        "cv_mean.append(cv_mean_ridge_cv)\n",
        "cv_variance.append(cv_variance_ridge_cv)\n",
        "mae.append(mae_ridge_cv)\n",
        "mse_l.append(mse_ridge_cv)\n",
        "rmse_l.append(rmse_ridge_cv)\n",
        "mape.append(mape_ridge_cv)\n",
        "\n",
        "print('Cross-Validation: {} \\n' .format(cross_va_ridge_cv))\n",
        "print('Cross-Validation mean: {} \\n' .format(cv_mean_ridge_cv))\n",
        "print('Cross-Validation variance: {}\\n' .format(cv_variance_ridge_cv))\n",
        "\n",
        "print(\"-----Test set statistics-----\")\n",
        "\n",
        "print(\"Mean absolute error of the prediction is: {}\".format(mae_ridge_cv))\n",
        "print(\"Mean squared error of the prediction is: {}\".format(mse_ridge_cv))\n",
        "print(\"Root mean squared error of the prediction is: {}\".format(rmse_ridge_cv))\n",
        "print(\"Mean absolute percentage error of the prediction is: {}\".format(mape_ridge_cv))"
      ],
      "execution_count": null,
      "outputs": [
        {
          "output_type": "stream",
          "name": "stdout",
          "text": [
            "Cross-Validation: [0.8924473  0.8932529  0.88801206 0.89077332 0.91112481 0.89272797\n",
            " 0.88437238 0.88942048 0.88664403 0.8918755 ] \n",
            "\n",
            "Cross-Validation mean: 0.8920650759203739 \n",
            "\n",
            "Cross-Validation variance: 4.789604916502656e-05\n",
            "\n",
            "-----Test set statistics-----\n",
            "Mean absolute error of the prediction is: 0.22225713209736903\n",
            "Mean squared error of the prediction is: 0.09273852231333136\n",
            "Root mean squared error of the prediction is: 0.3045300023205125\n",
            "Mean absolute percentage error of the prediction is: 2.415611635908824\n"
          ]
        }
      ]
    },
    {
      "cell_type": "code",
      "metadata": {
        "colab": {
          "base_uri": "https://localhost:8080/"
        },
        "id": "fPtlmMkSokNP",
        "outputId": "6408ffae-7168-43a1-a767-bfe9059c34fa"
      },
      "source": [
        "#Lasso\n",
        "from sklearn.linear_model import LassoCV\n",
        "\n",
        "X = train.drop(['price', 'log_price'], axis=1)\n",
        "y = cars_df['log_price']\n",
        "\n",
        "\n",
        "X_train, X_test, y_train, y_test = train_test_split(X, y, test_size=0.3, random_state=0)\n",
        "\n",
        "lasso_cv = LassoCV(alphas=alphas, cv=5)\n",
        "\n",
        "lasso_cv.fit(X_train, y_train)\n",
        "\n",
        "\n",
        "\n",
        "y_preds_test = lasso_cv.predict(X_test)\n",
        "\n",
        "cross_va_lasso_cv = cross_val_score(lasso_cv, X_train, y_train, cv=10)\n",
        "\n",
        "cv_mean_lasso_cv = cross_va_lasso_cv.mean()\n",
        "cv_variance_lasso_cv  = cross_va_lasso_cv.var()\n",
        "mae_lasso_cv = mean_absolute_error(y_test, y_preds_test)\n",
        "mse_lasso_cv  = mse(y_test, y_preds_test)\n",
        "rmse_lasso_cv  = rmse(y_test, y_preds_test)\n",
        "mape_lasso_cv  = np.mean(np.abs((y_test - y_preds_test) / y_test)) * 100\n",
        "\n",
        "cv_mean.append(cv_mean_lasso_cv)\n",
        "cv_variance.append(cv_variance_lasso_cv)\n",
        "mae.append(mae_lasso_cv)\n",
        "mse_l.append(mse_lasso_cv)\n",
        "rmse_l.append(rmse_lasso_cv)\n",
        "mape.append(mape_lasso_cv)\n",
        "\n",
        "print('Cross-Validation: {} \\n' .format(cross_va_lasso_cv))\n",
        "print('Cross-Validation mean: {} \\n' .format(cv_mean_lasso_cv))\n",
        "print('Cross-Validation variance: {}\\n' .format(cv_variance_lasso_cv))\n",
        "\n",
        "print(\"-----Test set statistics-----\")\n",
        "\n",
        "print(\"Mean absolute error of the prediction is: {}\".format(mae_lasso_cv))\n",
        "print(\"Mean squared error of the prediction is: {}\".format(mse_lasso_cv))\n",
        "print(\"Root mean squared error of the prediction is: {}\".format(rmse_lasso_cv))\n",
        "print(\"Mean absolute percentage error of the prediction is: {}\".format(mape_lasso_cv))"
      ],
      "execution_count": null,
      "outputs": [
        {
          "output_type": "stream",
          "name": "stdout",
          "text": [
            "Cross-Validation: [0.89244842 0.89326433 0.88804453 0.89025784 0.91113525 0.89293295\n",
            " 0.88522177 0.88910088 0.88557059 0.8920654 ] \n",
            "\n",
            "Cross-Validation mean: 0.8920041965252178 \n",
            "\n",
            "Cross-Validation variance: 4.831995400558061e-05\n",
            "\n",
            "-----Test set statistics-----\n",
            "Mean absolute error of the prediction is: 0.22224455136460164\n",
            "Mean squared error of the prediction is: 0.09272793151507451\n",
            "Root mean squared error of the prediction is: 0.304512613064015\n",
            "Mean absolute percentage error of the prediction is: 2.415469804406782\n"
          ]
        }
      ]
    },
    {
      "cell_type": "code",
      "metadata": {
        "colab": {
          "base_uri": "https://localhost:8080/"
        },
        "id": "kg34mLeuzxuM",
        "outputId": "9c01f440-a18c-4a5e-d7c8-5096ef4b9817"
      },
      "source": [
        "#Elastic\n",
        "from sklearn.linear_model import ElasticNetCV\n",
        "\n",
        "X = train.drop(['price', 'log_price'], axis=1)\n",
        "y = cars_df['log_price']\n",
        "\n",
        "\n",
        "X_train, X_test, y_train, y_test = train_test_split(X, y, test_size=0.3, random_state=0)\n",
        "\n",
        "elasticnet_cv = ElasticNetCV(alphas=alphas, cv=5)\n",
        "\n",
        "elasticnet_cv.fit(X_train, y_train)\n",
        "\n",
        "# We are making predictions here\n",
        "\n",
        "y_preds_test = elasticnet_cv.predict(X_test)\n",
        "\n",
        "cross_va_elasticnet_cv = cross_val_score(elasticnet_cv, X_train, y_train, cv=10)\n",
        "\n",
        "cv_mean_elasticnet_cv = cross_va_elasticnet_cv.mean()\n",
        "cv_variance_elasticnet_cv  = cross_va_elasticnet_cv.var()\n",
        "mae_elasticnet_cv = mean_absolute_error(y_test, y_preds_test)\n",
        "mse_elasticnet_cv  = mse(y_test, y_preds_test)\n",
        "rmse_elasticnet_cv  = rmse(y_test, y_preds_test)\n",
        "mape_elasticnet_cv  = np.mean(np.abs((y_test - y_preds_test) / y_test)) * 100\n",
        "\n",
        "cv_mean.append(cv_mean_elasticnet_cv)\n",
        "cv_variance.append(cv_variance_elasticnet_cv)\n",
        "mae.append(mae_elasticnet_cv)\n",
        "mse_l.append(mse_elasticnet_cv)\n",
        "rmse_l.append(rmse_elasticnet_cv)\n",
        "mape.append(mape_elasticnet_cv)\n",
        "\n",
        "print('Cross-Validation: {} \\n' .format(cross_va_elasticnet_cv))\n",
        "print('Cross-Validation mean: {} \\n' .format(cv_mean_elasticnet_cv))\n",
        "print('Cross-Validation variance: {}\\n' .format(cv_variance_elasticnet_cv))\n",
        "\n",
        "print(\"-----Test set statistics-----\")\n",
        "\n",
        "print(\"Mean absolute error of the prediction is: {}\".format(mae_elasticnet_cv))\n",
        "print(\"Mean squared error of the prediction is: {}\".format(mse_elasticnet_cv))\n",
        "print(\"Root mean squared error of the prediction is: {}\".format(rmse_elasticnet_cv))\n",
        "print(\"Mean absolute percentage error of the prediction is: {}\".format(mape_elasticnet_cv))\n"
      ],
      "execution_count": null,
      "outputs": [
        {
          "output_type": "stream",
          "name": "stdout",
          "text": [
            "Cross-Validation: [0.89244842 0.89326433 0.88804453 0.89068981 0.91113525 0.89268211\n",
            " 0.88525877 0.88946328 0.88557059 0.89192775] \n",
            "\n",
            "Cross-Validation mean: 0.8920484839747369 \n",
            "\n",
            "Cross-Validation variance: 4.789834739714185e-05\n",
            "\n",
            "-----Test set statistics-----\n",
            "Mean absolute error of the prediction is: 0.22224455160425585\n",
            "Mean squared error of the prediction is: 0.0927279317205302\n",
            "Root mean squared error of the prediction is: 0.3045126134013667\n",
            "Mean absolute percentage error of the prediction is: 2.4154698073618506\n"
          ]
        }
      ]
    },
    {
      "cell_type": "code",
      "metadata": {
        "colab": {
          "base_uri": "https://localhost:8080/"
        },
        "id": "w4ZJCminpBIS",
        "outputId": "2eeefc70-5461-4091-842f-e107d15e80fb"
      },
      "source": [
        "from sklearn.svm import SVR\n",
        "from sklearn.pipeline import make_pipeline\n",
        "from sklearn.preprocessing import StandardScaler\n",
        "\n",
        "\n",
        "X = train.drop(['price', 'log_price'], axis=1)\n",
        "y = cars_df['log_price']\n",
        "\n",
        "X_train, X_test, y_train, y_test = train_test_split(X, y, test_size=0.3, random_state=0)\n",
        "\n",
        "regr = make_pipeline(StandardScaler(), SVR(C=1.0, epsilon=0.2))\n",
        "regr.fit(X_train, y_train)\n",
        "\n",
        "y_preds_test = regr.predict(X_test)\n",
        "\n",
        "cross_va_regr = cross_val_score(regr, X_train, y_train, cv=10)\n",
        "\n",
        "cv_mean_regr = cross_va_regr.mean()\n",
        "cv_variance_regr  = cross_va_regr.var()\n",
        "mae_regr = mean_absolute_error(y_test, y_preds_test)\n",
        "mse_regr  = mse(y_test, y_preds_test)\n",
        "rmse_regr  = rmse(y_test, y_preds_test)\n",
        "mape_regr  = np.mean(np.abs((y_test - y_preds_test) / y_test)) * 100\n",
        "\n",
        "cv_mean.append(cv_mean_regr)\n",
        "cv_variance.append(cv_variance_regr)\n",
        "mae.append(mae_regr)\n",
        "mse_l.append(mse_regr)\n",
        "rmse_l.append(rmse_regr)\n",
        "mape.append(mape_regr)\n",
        "\n",
        "print('Cross-Validation: {} \\n' .format(cross_va_regr))\n",
        "print('Cross-Validation mean: {} \\n' .format(cv_mean_regr))\n",
        "print('Cross-Validation variance: {}\\n' .format(cv_variance_regr))\n",
        "\n",
        "print(\"-----Test set statistics-----\")\n",
        "\n",
        "print(\"Mean absolute error of the prediction is: {}\".format(mae_regr))\n",
        "print(\"Mean squared error of the prediction is: {}\".format(mse_regr))\n",
        "print(\"Root mean squared error of the prediction is: {}\".format(rmse_regr))\n",
        "print(\"Mean absolute percentage error of the prediction is: {}\".format(mape_regr))\n",
        "\n"
      ],
      "execution_count": null,
      "outputs": [
        {
          "output_type": "stream",
          "name": "stdout",
          "text": [
            "Cross-Validation: [0.91782491 0.91504623 0.87365377 0.91447299 0.92828685 0.92075883\n",
            " 0.89981951 0.90550653 0.91782757 0.8859044 ] \n",
            "\n",
            "Cross-Validation mean: 0.9079101594147747 \n",
            "\n",
            "Cross-Validation variance: 0.0002599938987624508\n",
            "\n",
            "-----Test set statistics-----\n",
            "Mean absolute error of the prediction is: 0.18965071711971038\n",
            "Mean squared error of the prediction is: 0.07480432957607733\n",
            "Root mean squared error of the prediction is: 0.27350380175799627\n",
            "Mean absolute percentage error of the prediction is: 2.0891614039235784\n"
          ]
        }
      ]
    },
    {
      "cell_type": "code",
      "metadata": {
        "id": "kCw5D5PysQn5",
        "colab": {
          "base_uri": "https://localhost:8080/"
        },
        "outputId": "9f2d7c71-f6f4-4f6c-bfc3-68960bf64c05"
      },
      "source": [
        "from sklearn.datasets import make_regression\n",
        "from sklearn.ensemble import GradientBoostingRegressor\n",
        "from sklearn.model_selection import train_test_split\n",
        "\n",
        "\n",
        "X = train.drop(['price', 'log_price'], axis=1)\n",
        "y = cars_df['log_price']\n",
        "\n",
        "X_train, X_test, y_train, y_test = train_test_split(X, y, test_size=0.3, random_state=0)\n",
        "\n",
        "reg = GradientBoostingRegressor(alpha=0.9, ccp_alpha=0.0, criterion='mse',\n",
        "                          init=None, learning_rate=0.1, loss='ls', max_depth=3,\n",
        "                          max_features=None, max_leaf_nodes=None,\n",
        "                          min_impurity_decrease=0.0, min_impurity_split=None,\n",
        "                          min_samples_leaf=1, min_samples_split=2,\n",
        "                          min_weight_fraction_leaf=0.0, n_estimators=100,\n",
        "                          n_iter_no_change=None, presort='deprecated',\n",
        "                          random_state=0, subsample=1.0, tol=0.0001,\n",
        "                          validation_fraction=0.1, verbose=0, warm_start=False)\n",
        "reg.fit(X_train, y_train)\n",
        "\n",
        "y_preds_test = reg.predict(X_test)\n",
        "\n",
        "cross_va_reg = cross_val_score(reg, X_train, y_train, cv=10)\n",
        "\n",
        "cv_mean_reg = cross_va_reg.mean()\n",
        "cv_variance_reg  = cross_va_reg.var()\n",
        "mae_reg = mean_absolute_error(y_test, y_preds_test)\n",
        "mse_reg  = mse(y_test, y_preds_test)\n",
        "rmse_reg  = rmse(y_test, y_preds_test)\n",
        "mape_reg  = np.mean(np.abs((y_test - y_preds_test) / y_test)) * 100\n",
        "\n",
        "cv_mean.append(cv_mean_reg)\n",
        "cv_variance.append(cv_variance_reg)\n",
        "mae.append(mae_reg)\n",
        "mse_l.append(mse_reg)\n",
        "rmse_l.append(rmse_reg)\n",
        "mape.append(mape_reg)\n",
        "\n",
        "print('Cross-Validation: {} \\n' .format(cross_va_reg))\n",
        "print('Cross-Validation mean: {} \\n' .format(cv_mean_reg))\n",
        "print('Cross-Validation variance: {}\\n' .format(cv_variance_reg))\n",
        "\n",
        "print(\"-----Test set statistics-----\")\n",
        "\n",
        "print(\"Mean absolute error of the prediction is: {}\".format(mae_reg))\n",
        "print(\"Mean squared error of the prediction is: {}\".format(mse_reg))\n",
        "print(\"Root mean squared error of the prediction is: {}\".format(rmse_reg))\n",
        "print(\"Mean absolute percentage error of the prediction is: {}\".format(mape_reg))\n"
      ],
      "execution_count": null,
      "outputs": [
        {
          "output_type": "stream",
          "name": "stdout",
          "text": [
            "Cross-Validation: [0.91515201 0.91107772 0.89016385 0.92218488 0.91605955 0.9142938\n",
            " 0.90076295 0.91068607 0.91026827 0.91422479] \n",
            "\n",
            "Cross-Validation mean: 0.9104873896622759 \n",
            "\n",
            "Cross-Validation variance: 7.261427005816509e-05\n",
            "\n",
            "-----Test set statistics-----\n",
            "Mean absolute error of the prediction is: 0.20319474971866852\n",
            "Mean squared error of the prediction is: 0.07812369031146268\n",
            "Root mean squared error of the prediction is: 0.27950615433557574\n",
            "Mean absolute percentage error of the prediction is: 2.230355014876989\n"
          ]
        }
      ]
    },
    {
      "cell_type": "code",
      "metadata": {
        "id": "J-98OHKNrOgK",
        "colab": {
          "base_uri": "https://localhost:8080/"
        },
        "outputId": "551b2f80-484d-4115-ad8c-f3a5019cae0c"
      },
      "source": [
        "from sklearn.model_selection import cross_val_score, GridSearchCV\n",
        "from sklearn.ensemble import RandomForestRegressor\n",
        "from sklearn.preprocessing import MinMaxScaler\n",
        "\n",
        "\n",
        "\n",
        "\n",
        "X = train.drop(['price', 'log_price'], axis=1)\n",
        "y = cars_df['log_price']\n",
        "\n",
        "X_train, X_test, y_train, y_test = train_test_split(X, y, test_size=0.3, random_state=0)\n",
        "\n",
        "rfr = RandomForestRegressor(bootstrap=True, ccp_alpha=0.0, criterion='mae',\n",
        "                      max_depth=None, max_features=20, max_leaf_nodes=None,\n",
        "                      max_samples=None, min_impurity_decrease=0.0,\n",
        "                      min_impurity_split=None, min_samples_leaf=1,\n",
        "                      min_samples_split=4, min_weight_fraction_leaf=0.0,\n",
        "                      n_estimators=150, n_jobs=None, oob_score=False,\n",
        "                      random_state=None, verbose=0, warm_start=False)\n",
        "rfr.fit(X_train, y_train)\n",
        "\n",
        "y_preds_test = rfr.predict(X_test)\n",
        "\n",
        "cross_va_rfr = cross_val_score(rfr, X_train, y_train, cv=10)\n",
        "\n",
        "cv_mean_rfr = cross_va_rfr.mean()\n",
        "cv_variance_rfr  = cross_va_rfr.var()\n",
        "mae_rfr = mean_absolute_error(y_test, y_preds_test)\n",
        "mse_rfr  = mse(y_test, y_preds_test)\n",
        "rmse_rfr  = rmse(y_test, y_preds_test)\n",
        "mape_rfr  = np.mean(np.abs((y_test - y_preds_test) / y_test)) * 100\n",
        "\n",
        "cv_mean.append(cv_mean_rfr)\n",
        "cv_variance.append(cv_variance_rfr)\n",
        "mae.append(mae_rfr)\n",
        "mse_l.append(mse_rfr)\n",
        "rmse_l.append(rmse_rfr)\n",
        "mape.append(mape_rfr)\n",
        "\n",
        "print('Cross-Validation: {} \\n' .format(cross_va_rfr))\n",
        "print('Cross-Validation mean: {} \\n' .format(cv_mean_rfr))\n",
        "print('Cross-Validation variance: {}\\n' .format(cv_variance_rfr))\n",
        "\n",
        "print(\"-----Test set statistics-----\")\n",
        "\n",
        "print(\"Mean absolute error of the prediction is: {}\".format(mae_rfr))\n",
        "print(\"Mean squared error of the prediction is: {}\".format(mse_rfr))\n",
        "print(\"Root mean squared error of the prediction is: {}\".format(rmse_rfr))\n",
        "print(\"Mean absolute percentage error of the prediction is: {}\".format(mape_rfr))\n"
      ],
      "execution_count": null,
      "outputs": [
        {
          "output_type": "stream",
          "name": "stdout",
          "text": [
            "Cross-Validation: [0.93366257 0.92760574 0.91250881 0.93411277 0.93632009 0.93161898\n",
            " 0.92241846 0.92428587 0.93819615 0.93254799] \n",
            "\n",
            "Cross-Validation mean: 0.929327743419624 \n",
            "\n",
            "Cross-Validation variance: 5.438490274817748e-05\n",
            "\n",
            "-----Test set statistics-----\n",
            "Mean absolute error of the prediction is: 0.1681962011155802\n",
            "Mean squared error of the prediction is: 0.06309087706088717\n",
            "Root mean squared error of the prediction is: 0.25117897416162677\n",
            "Mean absolute percentage error of the prediction is: 1.8751731669800678\n"
          ]
        }
      ]
    },
    {
      "cell_type": "code",
      "metadata": {
        "colab": {
          "base_uri": "https://localhost:8080/",
          "height": 266
        },
        "id": "xnYujkljMM8H",
        "outputId": "e1b83ef0-239e-4a77-9f3e-81d45e010422"
      },
      "source": [
        "#comparing the results\n",
        "\n",
        "col={'cv_mean':cv_mean,'cv_variance':cv_variance,'mae':mae,'mse':mse_l,'rmse':rmse_l,'mape':mape}\n",
        "models=['OLS','Ridge','Lasso','Elastic','SVR Regression', 'Gradient Boost Regression', 'RF Regression']\n",
        "results_comp= pd.DataFrame(data=col,index=models)\n",
        "results_comp"
      ],
      "execution_count": null,
      "outputs": [
        {
          "output_type": "execute_result",
          "data": {
            "text/html": [
              "<div>\n",
              "<style scoped>\n",
              "    .dataframe tbody tr th:only-of-type {\n",
              "        vertical-align: middle;\n",
              "    }\n",
              "\n",
              "    .dataframe tbody tr th {\n",
              "        vertical-align: top;\n",
              "    }\n",
              "\n",
              "    .dataframe thead th {\n",
              "        text-align: right;\n",
              "    }\n",
              "</style>\n",
              "<table border=\"1\" class=\"dataframe\">\n",
              "  <thead>\n",
              "    <tr style=\"text-align: right;\">\n",
              "      <th></th>\n",
              "      <th>cv_mean</th>\n",
              "      <th>cv_variance</th>\n",
              "      <th>mae</th>\n",
              "      <th>mse</th>\n",
              "      <th>rmse</th>\n",
              "      <th>mape</th>\n",
              "    </tr>\n",
              "  </thead>\n",
              "  <tbody>\n",
              "    <tr>\n",
              "      <th>OLS</th>\n",
              "      <td>0.892097</td>\n",
              "      <td>0.000048</td>\n",
              "      <td>0.222257</td>\n",
              "      <td>0.092739</td>\n",
              "      <td>0.304530</td>\n",
              "      <td>2.415612</td>\n",
              "    </tr>\n",
              "    <tr>\n",
              "      <th>Ridge</th>\n",
              "      <td>0.892065</td>\n",
              "      <td>0.000048</td>\n",
              "      <td>0.222257</td>\n",
              "      <td>0.092739</td>\n",
              "      <td>0.304530</td>\n",
              "      <td>2.415612</td>\n",
              "    </tr>\n",
              "    <tr>\n",
              "      <th>Lasso</th>\n",
              "      <td>0.892004</td>\n",
              "      <td>0.000048</td>\n",
              "      <td>0.222245</td>\n",
              "      <td>0.092728</td>\n",
              "      <td>0.304513</td>\n",
              "      <td>2.415470</td>\n",
              "    </tr>\n",
              "    <tr>\n",
              "      <th>Elastic</th>\n",
              "      <td>0.892048</td>\n",
              "      <td>0.000048</td>\n",
              "      <td>0.222245</td>\n",
              "      <td>0.092728</td>\n",
              "      <td>0.304513</td>\n",
              "      <td>2.415470</td>\n",
              "    </tr>\n",
              "    <tr>\n",
              "      <th>SVR Regression</th>\n",
              "      <td>0.907910</td>\n",
              "      <td>0.000260</td>\n",
              "      <td>0.189651</td>\n",
              "      <td>0.074804</td>\n",
              "      <td>0.273504</td>\n",
              "      <td>2.089161</td>\n",
              "    </tr>\n",
              "    <tr>\n",
              "      <th>Gradient Boost Regression</th>\n",
              "      <td>0.910487</td>\n",
              "      <td>0.000073</td>\n",
              "      <td>0.203195</td>\n",
              "      <td>0.078124</td>\n",
              "      <td>0.279506</td>\n",
              "      <td>2.230355</td>\n",
              "    </tr>\n",
              "    <tr>\n",
              "      <th>RF Regression</th>\n",
              "      <td>0.929328</td>\n",
              "      <td>0.000054</td>\n",
              "      <td>0.168196</td>\n",
              "      <td>0.063091</td>\n",
              "      <td>0.251179</td>\n",
              "      <td>1.875173</td>\n",
              "    </tr>\n",
              "  </tbody>\n",
              "</table>\n",
              "</div>"
            ],
            "text/plain": [
              "                            cv_mean  cv_variance  ...      rmse      mape\n",
              "OLS                        0.892097     0.000048  ...  0.304530  2.415612\n",
              "Ridge                      0.892065     0.000048  ...  0.304530  2.415612\n",
              "Lasso                      0.892004     0.000048  ...  0.304513  2.415470\n",
              "Elastic                    0.892048     0.000048  ...  0.304513  2.415470\n",
              "SVR Regression             0.907910     0.000260  ...  0.273504  2.089161\n",
              "Gradient Boost Regression  0.910487     0.000073  ...  0.279506  2.230355\n",
              "RF Regression              0.929328     0.000054  ...  0.251179  1.875173\n",
              "\n",
              "[7 rows x 6 columns]"
            ]
          },
          "metadata": {},
          "execution_count": 45
        }
      ]
    },
    {
      "cell_type": "markdown",
      "metadata": {
        "id": "u81NXxTQdWpJ"
      },
      "source": [
        "I am selecting the RF model because it has the highest cross-val mean, a fairly low varianc and low mape\n",
        "\n",
        "Limiting to 20 features with min_samples_split at 4 seems, and 150 estimators to give a high cross val score"
      ]
    },
    {
      "cell_type": "code",
      "metadata": {
        "colab": {
          "base_uri": "https://localhost:8080/",
          "height": 282
        },
        "id": "b4hiCzlQiIke",
        "outputId": "3cda3c4a-b0fe-45e0-eac6-65bd5ecb418c"
      },
      "source": [
        "\n",
        "feat_importances = pd.Series(rfr.feature_importances_, index=X.columns)\n",
        "feat_importances.nlargest(20).plot(kind='barh')"
      ],
      "execution_count": null,
      "outputs": [
        {
          "output_type": "execute_result",
          "data": {
            "text/plain": [
              "<matplotlib.axes._subplots.AxesSubplot at 0x7f413c58e590>"
            ]
          },
          "metadata": {},
          "execution_count": 46
        },
        {
          "output_type": "display_data",
          "data": {
            "image/png": "[encoded data removed]",
            "text/plain": [
              "<Figure size 432x288 with 1 Axes>"
            ]
          },
          "metadata": {
            "needs_background": "light"
          }
        }
      ]
    },
    {
      "cell_type": "code",
      "metadata": {
        "colab": {
          "base_uri": "https://localhost:8080/",
          "height": 621
        },
        "id": "Ci5yj6zvuWU8",
        "outputId": "c760e466-2461-4b6c-9126-3abf74ca0fab"
      },
      "source": [
        "from sklearn.model_selection import cross_val_predict\n",
        "#plotting my predictions against actuals \n",
        "\n",
        "predicted = cross_val_predict(rfr, X_test, y_test, cv=10)\n",
        "fig = plt.figure(figsize=(15,10))\n",
        "ax = fig.add_subplot(111)\n",
        "ax.scatter(y_test, predicted, edgecolors=(0, 0, 0))\n",
        "ax.plot([y.min(), y.max()], [y.min(), y.max()], 'k--', lw=4)\n",
        "ax.set_xlabel('Actual')\n",
        "ax.set_ylabel('Predicted')\n",
        "plt.title('Plotting Cross-Validated Predictions')\n",
        "plt.show()\n",
        "\n"
      ],
      "execution_count": null,
      "outputs": [
        {
          "output_type": "display_data",
          "data": {
            "image/png": "[encoded data removed]",
            "text/plain": [
              "<Figure size 1080x720 with 1 Axes>"
            ]
          },
          "metadata": {
            "needs_background": "light"
          }
        }
      ]
    },
    {
      "cell_type": "markdown",
      "metadata": {
        "id": "SQRA-TRldnso"
      },
      "source": [
        "Looks like the predictions are a little high for lower prices and a little low for the higher prices "
      ]
    },
    {
      "cell_type": "code",
      "metadata": {
        "colab": {
          "base_uri": "https://localhost:8080/",
          "height": 419
        },
        "id": "aCliOcWQ8PHd",
        "outputId": "abbdbb3c-dd99-4ac6-f192-7e1a93070bcb"
      },
      "source": [
        "#Actuals vs. predictions\n",
        "y_predict_test = rfr.predict(X_test)\n",
        "df=pd.DataFrame({'Actual':y_test, 'Predicted':y_predict_test})\n",
        "df"
      ],
      "execution_count": null,
      "outputs": [
        {
          "output_type": "execute_result",
          "data": {
            "text/html": [
              "<div>\n",
              "<style scoped>\n",
              "    .dataframe tbody tr th:only-of-type {\n",
              "        vertical-align: middle;\n",
              "    }\n",
              "\n",
              "    .dataframe tbody tr th {\n",
              "        vertical-align: top;\n",
              "    }\n",
              "\n",
              "    .dataframe thead th {\n",
              "        text-align: right;\n",
              "    }\n",
              "</style>\n",
              "<table border=\"1\" class=\"dataframe\">\n",
              "  <thead>\n",
              "    <tr style=\"text-align: right;\">\n",
              "      <th></th>\n",
              "      <th>Actual</th>\n",
              "      <th>Predicted</th>\n",
              "    </tr>\n",
              "  </thead>\n",
              "  <tbody>\n",
              "    <tr>\n",
              "      <th>5246</th>\n",
              "      <td>8.974618</td>\n",
              "      <td>8.940796</td>\n",
              "    </tr>\n",
              "    <tr>\n",
              "      <th>1200</th>\n",
              "      <td>9.388487</td>\n",
              "      <td>9.505914</td>\n",
              "    </tr>\n",
              "    <tr>\n",
              "      <th>9326</th>\n",
              "      <td>9.047821</td>\n",
              "      <td>9.023429</td>\n",
              "    </tr>\n",
              "    <tr>\n",
              "      <th>5926</th>\n",
              "      <td>8.648221</td>\n",
              "      <td>8.641295</td>\n",
              "    </tr>\n",
              "    <tr>\n",
              "      <th>2491</th>\n",
              "      <td>9.532424</td>\n",
              "      <td>9.530532</td>\n",
              "    </tr>\n",
              "    <tr>\n",
              "      <th>...</th>\n",
              "      <td>...</td>\n",
              "      <td>...</td>\n",
              "    </tr>\n",
              "    <tr>\n",
              "      <th>5110</th>\n",
              "      <td>8.922658</td>\n",
              "      <td>9.262266</td>\n",
              "    </tr>\n",
              "    <tr>\n",
              "      <th>7185</th>\n",
              "      <td>8.516993</td>\n",
              "      <td>8.943877</td>\n",
              "    </tr>\n",
              "    <tr>\n",
              "      <th>4660</th>\n",
              "      <td>8.318742</td>\n",
              "      <td>8.554898</td>\n",
              "    </tr>\n",
              "    <tr>\n",
              "      <th>3868</th>\n",
              "      <td>8.961879</td>\n",
              "      <td>8.878196</td>\n",
              "    </tr>\n",
              "    <tr>\n",
              "      <th>9160</th>\n",
              "      <td>9.179881</td>\n",
              "      <td>9.153750</td>\n",
              "    </tr>\n",
              "  </tbody>\n",
              "</table>\n",
              "<p>2326 rows × 2 columns</p>\n",
              "</div>"
            ],
            "text/plain": [
              "        Actual  Predicted\n",
              "5246  8.974618   8.940796\n",
              "1200  9.388487   9.505914\n",
              "9326  9.047821   9.023429\n",
              "5926  8.648221   8.641295\n",
              "2491  9.532424   9.530532\n",
              "...        ...        ...\n",
              "5110  8.922658   9.262266\n",
              "7185  8.516993   8.943877\n",
              "4660  8.318742   8.554898\n",
              "3868  8.961879   8.878196\n",
              "9160  9.179881   9.153750\n",
              "\n",
              "[2326 rows x 2 columns]"
            ]
          },
          "metadata": {},
          "execution_count": 48
        }
      ]
    },
    {
      "cell_type": "code",
      "metadata": {
        "colab": {
          "base_uri": "https://localhost:8080/",
          "height": 419
        },
        "id": "tMxQFiA56SZc",
        "outputId": "5a1c1945-702e-4491-b6b2-f67c91130043"
      },
      "source": [
        "#calc'ing MAE in actual dollars\n",
        "#MAE = 1/𝑛∑𝑖=1𝑛|𝑦𝑖−𝑦̂ 𝑖|\n",
        "\n",
        "df['exp_actual'] = np.exp(df['Actual'])\n",
        "df['exp_predict'] = np.exp(df['Predicted'])\n",
        "df['abs_diff'] = abs(df['exp_actual'] - df['exp_predict'])\n",
        "df\n",
        "                     "
      ],
      "execution_count": null,
      "outputs": [
        {
          "output_type": "execute_result",
          "data": {
            "text/html": [
              "<div>\n",
              "<style scoped>\n",
              "    .dataframe tbody tr th:only-of-type {\n",
              "        vertical-align: middle;\n",
              "    }\n",
              "\n",
              "    .dataframe tbody tr th {\n",
              "        vertical-align: top;\n",
              "    }\n",
              "\n",
              "    .dataframe thead th {\n",
              "        text-align: right;\n",
              "    }\n",
              "</style>\n",
              "<table border=\"1\" class=\"dataframe\">\n",
              "  <thead>\n",
              "    <tr style=\"text-align: right;\">\n",
              "      <th></th>\n",
              "      <th>Actual</th>\n",
              "      <th>Predicted</th>\n",
              "      <th>exp_actual</th>\n",
              "      <th>exp_predict</th>\n",
              "      <th>abs_diff</th>\n",
              "    </tr>\n",
              "  </thead>\n",
              "  <tbody>\n",
              "    <tr>\n",
              "      <th>5246</th>\n",
              "      <td>8.974618</td>\n",
              "      <td>8.940796</td>\n",
              "      <td>7900.0</td>\n",
              "      <td>7637.277517</td>\n",
              "      <td>262.722483</td>\n",
              "    </tr>\n",
              "    <tr>\n",
              "      <th>1200</th>\n",
              "      <td>9.388487</td>\n",
              "      <td>9.505914</td>\n",
              "      <td>11950.0</td>\n",
              "      <td>13438.976629</td>\n",
              "      <td>1488.976629</td>\n",
              "    </tr>\n",
              "    <tr>\n",
              "      <th>9326</th>\n",
              "      <td>9.047821</td>\n",
              "      <td>9.023429</td>\n",
              "      <td>8500.0</td>\n",
              "      <td>8295.169269</td>\n",
              "      <td>204.830731</td>\n",
              "    </tr>\n",
              "    <tr>\n",
              "      <th>5926</th>\n",
              "      <td>8.648221</td>\n",
              "      <td>8.641295</td>\n",
              "      <td>5700.0</td>\n",
              "      <td>5660.654701</td>\n",
              "      <td>39.345299</td>\n",
              "    </tr>\n",
              "    <tr>\n",
              "      <th>2491</th>\n",
              "      <td>9.532424</td>\n",
              "      <td>9.530532</td>\n",
              "      <td>13800.0</td>\n",
              "      <td>13773.913629</td>\n",
              "      <td>26.086371</td>\n",
              "    </tr>\n",
              "    <tr>\n",
              "      <th>...</th>\n",
              "      <td>...</td>\n",
              "      <td>...</td>\n",
              "      <td>...</td>\n",
              "      <td>...</td>\n",
              "      <td>...</td>\n",
              "    </tr>\n",
              "    <tr>\n",
              "      <th>5110</th>\n",
              "      <td>8.922658</td>\n",
              "      <td>9.262266</td>\n",
              "      <td>7500.0</td>\n",
              "      <td>10532.979271</td>\n",
              "      <td>3032.979271</td>\n",
              "    </tr>\n",
              "    <tr>\n",
              "      <th>7185</th>\n",
              "      <td>8.516993</td>\n",
              "      <td>8.943877</td>\n",
              "      <td>4999.0</td>\n",
              "      <td>7660.840893</td>\n",
              "      <td>2661.840893</td>\n",
              "    </tr>\n",
              "    <tr>\n",
              "      <th>4660</th>\n",
              "      <td>8.318742</td>\n",
              "      <td>8.554898</td>\n",
              "      <td>4100.0</td>\n",
              "      <td>5192.123615</td>\n",
              "      <td>1092.123615</td>\n",
              "    </tr>\n",
              "    <tr>\n",
              "      <th>3868</th>\n",
              "      <td>8.961879</td>\n",
              "      <td>8.878196</td>\n",
              "      <td>7800.0</td>\n",
              "      <td>7173.839173</td>\n",
              "      <td>626.160827</td>\n",
              "    </tr>\n",
              "    <tr>\n",
              "      <th>9160</th>\n",
              "      <td>9.179881</td>\n",
              "      <td>9.153750</td>\n",
              "      <td>9700.0</td>\n",
              "      <td>9449.806450</td>\n",
              "      <td>250.193550</td>\n",
              "    </tr>\n",
              "  </tbody>\n",
              "</table>\n",
              "<p>2326 rows × 5 columns</p>\n",
              "</div>"
            ],
            "text/plain": [
              "        Actual  Predicted  exp_actual   exp_predict     abs_diff\n",
              "5246  8.974618   8.940796      7900.0   7637.277517   262.722483\n",
              "1200  9.388487   9.505914     11950.0  13438.976629  1488.976629\n",
              "9326  9.047821   9.023429      8500.0   8295.169269   204.830731\n",
              "5926  8.648221   8.641295      5700.0   5660.654701    39.345299\n",
              "2491  9.532424   9.530532     13800.0  13773.913629    26.086371\n",
              "...        ...        ...         ...           ...          ...\n",
              "5110  8.922658   9.262266      7500.0  10532.979271  3032.979271\n",
              "7185  8.516993   8.943877      4999.0   7660.840893  2661.840893\n",
              "4660  8.318742   8.554898      4100.0   5192.123615  1092.123615\n",
              "3868  8.961879   8.878196      7800.0   7173.839173   626.160827\n",
              "9160  9.179881   9.153750      9700.0   9449.806450   250.193550\n",
              "\n",
              "[2326 rows x 5 columns]"
            ]
          },
          "metadata": {},
          "execution_count": 49
        }
      ]
    },
    {
      "cell_type": "code",
      "metadata": {
        "id": "KYiWlus89JFi"
      },
      "source": [
        "m_a_e = 1/2326 * df.abs_diff.sum()"
      ],
      "execution_count": null,
      "outputs": []
    },
    {
      "cell_type": "code",
      "metadata": {
        "colab": {
          "base_uri": "https://localhost:8080/"
        },
        "id": "gXiQI-ii_Ukz",
        "outputId": "4d6985ad-8f6b-40e2-b09b-230a19400bcd"
      },
      "source": [
        "m_a_e"
      ],
      "execution_count": null,
      "outputs": [
        {
          "output_type": "execute_result",
          "data": {
            "text/plain": [
              "2791.2814868681544"
            ]
          },
          "metadata": {},
          "execution_count": 51
        }
      ]
    },
    {
      "cell_type": "code",
      "metadata": {
        "colab": {
          "base_uri": "https://localhost:8080/"
        },
        "id": "S9MJuP5v_Voq",
        "outputId": "1a245979-daa5-4d6d-aaab-af1fb2195baa"
      },
      "source": [
        "mean_absolute_error(df['exp_actual'], df['exp_predict'])"
      ],
      "execution_count": null,
      "outputs": [
        {
          "output_type": "execute_result",
          "data": {
            "text/plain": [
              "2791.2814868681544"
            ]
          },
          "metadata": {},
          "execution_count": 52
        }
      ]
    },
    {
      "cell_type": "code",
      "metadata": {
        "id": "uGNY_K57FkRE"
      },
      "source": [
        ""
      ],
      "execution_count": null,
      "outputs": []
    }
  ]
}